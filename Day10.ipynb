{
  "cells": [
    {
      "cell_type": "markdown",
      "metadata": {
        "id": "view-in-github",
        "colab_type": "text"
      },
      "source": [
        "<a href=\"https://colab.research.google.com/github/oddrationale/AdventOfCode2023Python/blob/main/Day10.ipynb\" target=\"_parent\"><img src=\"https://colab.research.google.com/assets/colab-badge.svg\" alt=\"Open In Colab\"/></a>"
      ]
    },
    {
      "cell_type": "markdown",
      "metadata": {
        "id": "oFAzFV8k0MTr"
      },
      "source": [
        "<article class=\"day-desc\"><h2>--- Day 10: Pipe Maze ---</h2><p>You use the hang glider to ride the hot air from Desert Island all the way up to the floating metal island. This island is surprisingly cold and there definitely aren't any thermals to glide on, so you leave your hang glider behind.</p>\n",
        "<p>You wander around for a while, but you don't find any people or animals. However, you do occasionally find signposts labeled \"<a href=\"https://en.wikipedia.org/wiki/Hot_spring\" target=\"_blank\">Hot Springs</a>\" pointing in a seemingly consistent direction; maybe you can find someone at the hot springs and ask them where the desert-machine parts are made.</p>\n",
        "<p>The landscape here is alien; even the flowers and trees are made of metal. As you stop to admire some metal grass, you notice something metallic scurry away in your peripheral vision and jump into a big pipe! It didn't look like any animal you've ever seen; if you want a better look, you'll need to get ahead of it.</p>\n",
        "<p>Scanning the area, you discover that the entire field you're standing on is <span title=\"Manufactured by Hamilton and Hilbert Pipe Company\">densely packed with pipes</span>; it was hard to tell at first because they're the same metallic silver color as the \"ground\". You make a quick sketch of all of the surface pipes you can see (your puzzle input).</p>\n",
        "<p>The pipes are arranged in a two-dimensional grid of <em>tiles</em>:</p>\n",
        "<ul>\n",
        "<li><code>|</code> is a <em>vertical pipe</em> connecting north and south.</li>\n",
        "<li><code>-</code> is a <em>horizontal pipe</em> connecting east and west.</li>\n",
        "<li><code>L</code> is a <em>90-degree bend</em> connecting north and east.</li>\n",
        "<li><code>J</code> is a <em>90-degree bend</em> connecting north and west.</li>\n",
        "<li><code>7</code> is a <em>90-degree bend</em> connecting south and west.</li>\n",
        "<li><code>F</code> is a <em>90-degree bend</em> connecting south and east.</li>\n",
        "<li><code>.</code> is <em>ground</em>; there is no pipe in this tile.</li>\n",
        "<li><code>S</code> is the <em>starting position</em> of the animal; there is a pipe on this tile, but your sketch doesn't show what shape the pipe has.</li>\n",
        "</ul>\n",
        "<p>Based on the acoustics of the animal's scurrying, you're confident the pipe that contains the animal is <em>one large, continuous loop</em>.</p>\n",
        "<p>For example, here is a square loop of pipe:</p>\n",
        "<pre><code>.....\n",
        ".F-7.\n",
        ".|.|.\n",
        ".L-J.\n",
        ".....\n",
        "</code></pre>\n",
        "<p>If the animal had entered this loop in the northwest corner, the sketch would instead look like this:</p>\n",
        "<pre><code>.....\n",
        ".<em>S</em>-7.\n",
        ".|.|.\n",
        ".L-J.\n",
        ".....\n",
        "</code></pre>\n",
        "<p>In the above diagram, the <code>S</code> tile is still a 90-degree <code>F</code> bend: you can tell because of how the adjacent pipes connect to it.</p>\n",
        "<p>Unfortunately, there are also many pipes that <em>aren't connected to the loop</em>! This sketch shows the same loop as above:</p>\n",
        "<pre><code>-L|F7\n",
        "7S-7|\n",
        "L|7||\n",
        "-L-J|\n",
        "L|-JF\n",
        "</code></pre>\n",
        "<p>In the above diagram, you can still figure out which pipes form the main loop: they're the ones connected to <code>S</code>, pipes those pipes connect to, pipes <em>those</em> pipes connect to, and so on. Every pipe in the main loop connects to its two neighbors (including <code>S</code>, which will have exactly two pipes connecting to it, and which is assumed to connect back to those two pipes).</p>\n",
        "<p>Here is a sketch that contains a slightly more complex main loop:</p>\n",
        "<pre><code>..F7.\n",
        ".FJ|.\n",
        "SJ.L7\n",
        "|F--J\n",
        "LJ...\n",
        "</code></pre>\n",
        "<p>Here's the same example sketch with the extra, non-main-loop pipe tiles also shown:</p>\n",
        "<pre><code>7-F7-\n",
        ".FJ|7\n",
        "SJLL7\n",
        "|F--J\n",
        "LJ.LJ\n",
        "</code></pre>\n",
        "<p>If you want to <em>get out ahead of the animal</em>, you should find the tile in the loop that is <em>farthest</em> from the starting position. Because the animal is in the pipe, it doesn't make sense to measure this by direct distance. Instead, you need to find the tile that would take the longest number of steps <em>along the loop</em> to reach from the starting point - regardless of which way around the loop the animal went.</p>\n",
        "<p>In the first example with the square loop:</p>\n",
        "<pre><code>.....\n",
        ".S-7.\n",
        ".|.|.\n",
        ".L-J.\n",
        ".....\n",
        "</code></pre>\n",
        "<p>You can count the distance each tile in the loop is from the starting point like this:</p>\n",
        "<pre><code>.....\n",
        ".012.\n",
        ".1.3.\n",
        ".23<em>4</em>.\n",
        ".....\n",
        "</code></pre>\n",
        "<p>In this example, the farthest point from the start is <code><em>4</em></code> steps away.</p>\n",
        "<p>Here's the more complex loop again:</p>\n",
        "<pre><code>..F7.\n",
        ".FJ|.\n",
        "SJ.L7\n",
        "|F--J\n",
        "LJ...\n",
        "</code></pre>\n",
        "<p>Here are the distances for each tile on that loop:</p>\n",
        "<pre><code>..45.\n",
        ".236.\n",
        "01.7<em>8</em>\n",
        "14567\n",
        "23...\n",
        "</code></pre>\n",
        "<p>Find the single giant loop starting at <code>S</code>. <em>How many steps along the loop does it take to get from the starting position to the point farthest from the starting position?</em></p>\n",
        "</article>"
      ]
    },
    {
      "cell_type": "code",
      "execution_count": 1,
      "metadata": {
        "colab": {
          "base_uri": "https://localhost:8080/"
        },
        "id": "8bnd-ZZk0PAL",
        "outputId": "5e2ad76d-027a-4cb3-e67b-9e2008c1d223"
      },
      "outputs": [
        {
          "output_type": "stream",
          "name": "stdout",
          "text": [
            "Drive already mounted at /content/drive; to attempt to forcibly remount, call drive.mount(\"/content/drive\", force_remount=True).\n"
          ]
        }
      ],
      "source": [
        "from google.colab import drive\n",
        "drive.mount(r\"/content/drive\")\n",
        "\n",
        "input_file = r\"/content/drive/MyDrive/Colab Notebooks/AoC2023/input/10.txt\"\n",
        "with open(input_file, \"r\") as file:\n",
        "    input = file.read()"
      ]
    },
    {
      "cell_type": "code",
      "source": [
        "from collections import deque"
      ],
      "metadata": {
        "id": "lWowqf2VeI-_"
      },
      "execution_count": 2,
      "outputs": []
    },
    {
      "cell_type": "code",
      "source": [
        "def parse_input(input: str) -> list[str]:\n",
        "    \"\"\"\n",
        "    Parse the multiline puzzle input into a list of strings.\n",
        "\n",
        "    Each line of the input is converted into a string in the list.\n",
        "\n",
        "    Args:\n",
        "    input (str): A multiline string representing the puzzle input.\n",
        "\n",
        "    Returns:\n",
        "    list[str]: A list of strings, each representing a line from the input.\n",
        "    \"\"\"\n",
        "    # Split the input string into lines\n",
        "    return input.splitlines()"
      ],
      "metadata": {
        "id": "1VqgxA04bdQh"
      },
      "execution_count": 3,
      "outputs": []
    },
    {
      "cell_type": "code",
      "source": [
        "def find_start_position(grid: list[str]) -> tuple[int, int]:\n",
        "    \"\"\"\n",
        "    Find the coordinates of the starting position 'S' in the grid.\n",
        "\n",
        "    Args:\n",
        "    grid (list[str]): A list of strings representing the pipe grid.\n",
        "\n",
        "    Returns:\n",
        "    tuple[int, int]: The coordinates (row, column) of the starting position 'S'.\n",
        "                      Returns (-1, -1) if 'S' is not found.\n",
        "    \"\"\"\n",
        "    for row_index, row in enumerate(grid):\n",
        "        if 'S' in row:\n",
        "            return (row_index, row.index('S'))\n",
        "    return (-1, -1)  # Return an invalid position if 'S' is not found"
      ],
      "metadata": {
        "id": "4_xElD5jbmm3"
      },
      "execution_count": 4,
      "outputs": []
    },
    {
      "cell_type": "code",
      "source": [
        "def bfs_furthest_distance(grid: list[str], start: tuple[int, int]) -> tuple[int, set[tuple[int, int]]]:\n",
        "    \"\"\"\n",
        "    Find the furthest distance in a pipe loop using BFS.\n",
        "\n",
        "    Args:\n",
        "    grid (list[str]): The grid representing the pipe layout.\n",
        "    start (tuple[int, int]): The starting position (row, column).\n",
        "\n",
        "    Returns:\n",
        "    tuple[int, set[tuple[int, int]]]:\n",
        "        The number of steps to the furthest point in the loop from the start.\n",
        "        The set of tuples of the coordinates of the pipes in the path.\n",
        "    \"\"\"\n",
        "\n",
        "    # Define the directions each pipe type can connect to\n",
        "    connections = {\n",
        "        '|': {'U', 'D'},\n",
        "        '-': {'L', 'R'},\n",
        "        'L': {'U', 'R'},\n",
        "        'J': {'L', 'U'},\n",
        "        '7': {'L', 'D'},\n",
        "        'F': {'R', 'D'},\n",
        "        'S': {'U', 'D', 'L', 'R'},  # 'S' can connect in any direction\n",
        "        '.': set(),\n",
        "    }\n",
        "\n",
        "    # Define the offsets for moving in each direction\n",
        "    offsets = {\n",
        "        'U': (-1, 0),\n",
        "        'D': (1, 0),\n",
        "        'L': (0, -1),\n",
        "        'R': (0, 1)\n",
        "    }\n",
        "\n",
        "    def is_valid_move(from_pipe: str, to_pipe: str, direction: str) -> bool:\n",
        "        \"\"\"Check if the move is valid based on the pipe connections.\"\"\"\n",
        "        opposite = {'U': 'D', 'D': 'U', 'L': 'R', 'R': 'L'}\n",
        "        return opposite[direction] in connections[to_pipe]\n",
        "\n",
        "    # Initialize the BFS queue and visited set\n",
        "    # Each element in the queue is a tuple (position, distance)\n",
        "    queue: deque[tuple[tuple[int, int], int]] = deque([(start, 0)])\n",
        "    visited = set([start])\n",
        "    max_distance = 0\n",
        "\n",
        "    while queue:\n",
        "        (row, col), distance = queue.popleft()\n",
        "        max_distance = max(max_distance, distance)\n",
        "        current_pipe = grid[row][col]\n",
        "\n",
        "        for direction in connections[current_pipe]:\n",
        "            d_row, d_col = offsets[direction]\n",
        "            next_row, next_col = row + d_row, col + d_col\n",
        "\n",
        "            if 0 <= next_row < len(grid) and 0 <= next_col < len(grid[0]) and \\\n",
        "               (next_row, next_col) not in visited and \\\n",
        "               is_valid_move(current_pipe, grid[next_row][next_col], direction):\n",
        "\n",
        "                queue.append(((next_row, next_col), distance + 1))\n",
        "                visited.add((next_row, next_col))\n",
        "\n",
        "    return max_distance, visited"
      ],
      "metadata": {
        "id": "bhXOy1hQcfxX"
      },
      "execution_count": 5,
      "outputs": []
    },
    {
      "cell_type": "code",
      "source": [
        "grid = parse_input(input)\n",
        "max_distance, visited = bfs_furthest_distance(grid, find_start_position(grid))\n",
        "max_distance"
      ],
      "metadata": {
        "colab": {
          "base_uri": "https://localhost:8080/"
        },
        "id": "9Kx0kjwHxPZ5",
        "outputId": "65622c19-a8d9-48d6-8d40-881710870dc3"
      },
      "execution_count": 6,
      "outputs": [
        {
          "output_type": "execute_result",
          "data": {
            "text/plain": [
              "6806"
            ]
          },
          "metadata": {},
          "execution_count": 6
        }
      ]
    },
    {
      "cell_type": "markdown",
      "source": [
        "<article class=\"day-desc\"><h2 id=\"part2\">--- Part Two ---</h2><p>You quickly reach the farthest point of the loop, but the animal never emerges. Maybe its nest is <em>within the area enclosed by the loop</em>?</p>\n",
        "<p>To determine whether it's even worth taking the time to search for such a nest, you should calculate how many tiles are contained within the loop. For example:</p>\n",
        "<pre><code>...........\n",
        ".S-------7.\n",
        ".|F-----7|.\n",
        ".||.....||.\n",
        ".||.....||.\n",
        ".|L-7.F-J|.\n",
        ".|..|.|..|.\n",
        ".L--J.L--J.\n",
        "...........\n",
        "</code></pre>\n",
        "<p>The above loop encloses merely <em>four tiles</em> - the two pairs of <code>.</code> in the southwest and southeast (marked <code>I</code> below). The middle <code>.</code> tiles (marked <code>O</code> below) are <em>not</em> in the loop. Here is the same loop again with those regions marked:</p>\n",
        "<pre><code>...........\n",
        ".S-------7.\n",
        ".|F-----7|.\n",
        ".||<em>OOOOO</em>||.\n",
        ".||<em>OOOOO</em>||.\n",
        ".|L-7<em>O</em>F-J|.\n",
        ".|<em>II</em>|<em>O</em>|<em>II</em>|.\n",
        ".L--J<em>O</em>L--J.\n",
        ".....<em>O</em>.....\n",
        "</code></pre>\n",
        "<p>In fact, there doesn't even need to be a full tile path to the outside for tiles to count as outside the loop - squeezing between pipes is also allowed! Here, <code>I</code> is still within the loop and <code>O</code> is still outside the loop:</p>\n",
        "<pre><code>..........\n",
        ".S------7.\n",
        ".|F----7|.\n",
        ".||<em>OOOO</em>||.\n",
        ".||<em>OOOO</em>||.\n",
        ".|L-7F-J|.\n",
        ".|<em>II</em>||<em>II</em>|.\n",
        ".L--JL--J.\n",
        "..........\n",
        "</code></pre>\n",
        "<p>In both of the above examples, <code><em>4</em></code> tiles are enclosed by the loop.</p>\n",
        "<p>Here's a larger example:</p>\n",
        "<pre><code>.F----7F7F7F7F-7....\n",
        ".|F--7||||||||FJ....\n",
        ".||.FJ||||||||L7....\n",
        "FJL7L7LJLJ||LJ.L-7..\n",
        "L--J.L7...LJS7F-7L7.\n",
        "....F-J..F7FJ|L7L7L7\n",
        "....L7.F7||L7|.L7L7|\n",
        ".....|FJLJ|FJ|F7|.LJ\n",
        "....FJL-7.||.||||...\n",
        "....L---J.LJ.LJLJ...\n",
        "</code></pre>\n",
        "<p>The above sketch has many random bits of ground, some of which are in the loop (<code>I</code>) and some of which are outside it (<code>O</code>):</p>\n",
        "<pre><code><em>O</em>F----7F7F7F7F-7<em>OOOO</em>\n",
        "<em>O</em>|F--7||||||||FJ<em>OOOO</em>\n",
        "<em>O</em>||<em>O</em>FJ||||||||L7<em>OOOO</em>\n",
        "FJL7L7LJLJ||LJ<em>I</em>L-7<em>OO</em>\n",
        "L--J<em>O</em>L7<em>III</em>LJS7F-7L7<em>O</em>\n",
        "<em>OOOO</em>F-J<em>II</em>F7FJ|L7L7L7\n",
        "<em>OOOO</em>L7<em>I</em>F7||L7|<em>I</em>L7L7|\n",
        "<em>OOOOO</em>|FJLJ|FJ|F7|<em>O</em>LJ\n",
        "<em>OOOO</em>FJL-7<em>O</em>||<em>O</em>||||<em>OOO</em>\n",
        "<em>OOOO</em>L---J<em>O</em>LJ<em>O</em>LJLJ<em>OOO</em>\n",
        "</code></pre>\n",
        "<p>In this larger example, <code><em>8</em></code> tiles are enclosed by the loop.</p>\n",
        "<p>Any tile that isn't part of the main loop can count as being enclosed by the loop. Here's another example with many bits of junk pipe lying around that aren't connected to the main loop at all:</p>\n",
        "<pre><code>FF7FSF7F7F7F7F7F---7\n",
        "L|LJ||||||||||||F--J\n",
        "FL-7LJLJ||||||LJL-77\n",
        "F--JF--7||LJLJ7F7FJ-\n",
        "L---JF-JLJ.||-FJLJJ7\n",
        "|F|F-JF---7F7-L7L|7|\n",
        "|FFJF7L7F-JF7|JL---7\n",
        "7-L-JL7||F7|L7F-7F7|\n",
        "L.L7LFJ|||||FJL7||LJ\n",
        "L7JLJL-JLJLJL--JLJ.L\n",
        "</code></pre>\n",
        "<p>Here are just the tiles that are <em>enclosed by the loop</em> marked with <code>I</code>:</p>\n",
        "<pre><code>FF7FSF7F7F7F7F7F---7\n",
        "L|LJ||||||||||||F--J\n",
        "FL-7LJLJ||||||LJL-77\n",
        "F--JF--7||LJLJ<em>I</em>F7FJ-\n",
        "L---JF-JLJ<em>IIII</em>FJLJJ7\n",
        "|F|F-JF---7<em>III</em>L7L|7|\n",
        "|FFJF7L7F-JF7<em>II</em>L---7\n",
        "7-L-JL7||F7|L7F-7F7|\n",
        "L.L7LFJ|||||FJL7||LJ\n",
        "L7JLJL-JLJLJL--JLJ.L\n",
        "</code></pre>\n",
        "<p>In this last example, <code><em>10</em></code> tiles are enclosed by the loop.</p>\n",
        "<p>Figure out whether you have time to search for the nest by calculating the area within the loop. <em>How many tiles are enclosed by the loop?</em></p>\n",
        "</article>"
      ],
      "metadata": {
        "id": "uNqnB2thO5HO"
      }
    },
    {
      "cell_type": "code",
      "source": [
        "def count_enclosed_tiles(grid: list[str], loop_pipes: set[tuple[int, int]]) -> int:\n",
        "    \"\"\"\n",
        "    Count the number of tiles enclosed within the loop using a ray-casting approach.\n",
        "\n",
        "    Args:\n",
        "    grid (list[str]): The grid representing the pipe layout.\n",
        "    loop_pipes (set[tuple[int, int]]): Set of tuples containing the row and column indices of the pipes in the loop.\n",
        "\n",
        "    Returns:\n",
        "    int: The number of tiles enclosed within the loop.\n",
        "    \"\"\"\n",
        "\n",
        "    enclosed_count = 0\n",
        "    for row in range(len(grid)):\n",
        "        intercepts = 0\n",
        "        corner_start = ''\n",
        "        for col in range(len(grid[row])):\n",
        "            if (row, col) in loop_pipes:\n",
        "                pipe = grid[row][col]\n",
        "                if pipe == '|':\n",
        "                    intercepts += 1\n",
        "                if pipe == 'F':\n",
        "                    corner_start = 'F'\n",
        "                if pipe == 'L':\n",
        "                    corner_start = 'L'\n",
        "                if pipe == 'J':\n",
        "                    if corner_start == 'F':\n",
        "                        intercepts += 1\n",
        "                    corner_start = ''\n",
        "                if pipe == '7':\n",
        "                    if corner_start == 'L':\n",
        "                        intercepts += 1\n",
        "                    corner_start = ''\n",
        "            else:\n",
        "                if intercepts % 2 == 1:\n",
        "                    enclosed_count += 1\n",
        "\n",
        "    return enclosed_count"
      ],
      "metadata": {
        "id": "bLCfyZr8r9CP"
      },
      "execution_count": 7,
      "outputs": []
    },
    {
      "cell_type": "code",
      "source": [
        "count_enclosed_tiles(grid, visited)"
      ],
      "metadata": {
        "colab": {
          "base_uri": "https://localhost:8080/"
        },
        "id": "uF4Cuwxi07VU",
        "outputId": "3021dc94-b299-427b-f3a3-a3a32c677b54"
      },
      "execution_count": 8,
      "outputs": [
        {
          "output_type": "execute_result",
          "data": {
            "text/plain": [
              "449"
            ]
          },
          "metadata": {},
          "execution_count": 8
        }
      ]
    }
  ],
  "metadata": {
    "colab": {
      "provenance": [],
      "authorship_tag": "ABX9TyP8XC6qFdmT4HdJNM7EmI93",
      "include_colab_link": true
    },
    "kernelspec": {
      "display_name": "Python 3",
      "name": "python3"
    },
    "language_info": {
      "name": "python"
    }
  },
  "nbformat": 4,
  "nbformat_minor": 0
}