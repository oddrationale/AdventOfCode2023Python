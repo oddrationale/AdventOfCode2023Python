{
  "nbformat": 4,
  "nbformat_minor": 0,
  "metadata": {
    "colab": {
      "provenance": [],
      "authorship_tag": "ABX9TyNiCpX/olIbFNb/f+cTz+RO",
      "include_colab_link": true
    },
    "kernelspec": {
      "name": "python3",
      "display_name": "Python 3"
    },
    "language_info": {
      "name": "python"
    }
  },
  "cells": [
    {
      "cell_type": "markdown",
      "metadata": {
        "id": "view-in-github",
        "colab_type": "text"
      },
      "source": [
        "<a href=\"https://colab.research.google.com/github/oddrationale/AdventOfCode2023Python/blob/main/Day01.ipynb\" target=\"_parent\"><img src=\"https://colab.research.google.com/assets/colab-badge.svg\" alt=\"Open In Colab\"/></a>"
      ]
    },
    {
      "cell_type": "markdown",
      "source": [
        "<article class=\"day-desc\"><h2>--- Day 1: Trebuchet?! ---</h2><p>Something is wrong with global snow production, and you've been selected to take a look. The Elves have even given you a map; on it, they've used stars to mark the top fifty locations that are likely to be having problems.</p>\n",
        "<p>You've been doing this long enough to know that to restore snow operations, you need to check all <em class=\"star\">fifty stars</em> by December 25th.</p>\n",
        "<p>Collect stars by solving puzzles.  Two puzzles will be made available on each day in the Advent calendar; the second puzzle is unlocked when you complete the first.  Each puzzle grants <em class=\"star\">one star</em>. Good luck!</p>\n",
        "<p>You try to ask why they can't just use a <a href=\"/2015/day/1\">weather machine</a> (\"not powerful enough\") and where they're even sending you (\"the sky\") and why your map looks mostly blank (\"you sure ask a lot of questions\") <span title=\"My hope is that this abomination of a run-on sentence somehow conveys the chaos of being hastily loaded into a trebuchet.\">and</span> hang on did you just say the sky (\"of course, where do you think snow comes from\") when you realize that the Elves are already loading you into a <a href=\"https://en.wikipedia.org/wiki/Trebuchet\" target=\"_blank\">trebuchet</a> (\"please hold still, we need to strap you in\").</p>\n",
        "<p>As they're making the final adjustments, they discover that their calibration document (your puzzle input) has been <em>amended</em> by a very young Elf who was apparently just excited to show off her art skills. Consequently, the Elves are having trouble reading the values on the document.</p>\n",
        "<p>The newly-improved calibration document consists of lines of text; each line originally contained a specific <em>calibration value</em> that the Elves now need to recover. On each line, the calibration value can be found by combining the <em>first digit</em> and the <em>last digit</em> (in that order) to form a single <em>two-digit number</em>.</p>\n",
        "<p>For example:</p>\n",
        "<pre><code>1abc2\n",
        "pqr3stu8vwx\n",
        "a1b2c3d4e5f\n",
        "treb7uchet\n",
        "</code></pre>\n",
        "<p>In this example, the calibration values of these four lines are <code>12</code>, <code>38</code>, <code>15</code>, and <code>77</code>. Adding these together produces <code><em>142</em></code>.</p>\n",
        "<p>Consider your entire calibration document. <em>What is the sum of all of the calibration values?</em></p>\n",
        "</article>"
      ],
      "metadata": {
        "id": "Ecy4IED2tFb2"
      }
    },
    {
      "cell_type": "code",
      "source": [
        "from google.colab import drive\n",
        "drive.mount(r\"/content/drive\")\n",
        "\n",
        "folder = r\"/content/drive/MyDrive/AdventOfCode2023\"\n",
        "with open(f\"{folder}/input01.txt\", \"r\") as file:\n",
        "    input = file.read()"
      ],
      "metadata": {
        "colab": {
          "base_uri": "https://localhost:8080/"
        },
        "id": "jyYvEhGFvUIa",
        "outputId": "7191ede3-0a95-49ac-8950-8cba6234c4e0"
      },
      "execution_count": 1,
      "outputs": [
        {
          "output_type": "stream",
          "name": "stdout",
          "text": [
            "Drive already mounted at /content/drive; to attempt to forcibly remount, call drive.mount(\"/content/drive\", force_remount=True).\n"
          ]
        }
      ]
    },
    {
      "cell_type": "code",
      "source": [
        "import re"
      ],
      "metadata": {
        "id": "Ih738cnY_W4R"
      },
      "execution_count": 2,
      "outputs": []
    },
    {
      "cell_type": "code",
      "source": [
        "lines = input.split(\"\\n\")"
      ],
      "metadata": {
        "id": "kIAXut_yuXSs"
      },
      "execution_count": 3,
      "outputs": []
    },
    {
      "cell_type": "code",
      "source": [
        "def recover_calibration_value(line: str) -> int:\n",
        "    non_digit_pattern = re.compile(r\"\\D\")\n",
        "    line = non_digit_pattern.sub(\"\", line)\n",
        "\n",
        "    return int(f\"{line[0]}{line[-1]}\") if line else 0"
      ],
      "metadata": {
        "id": "DzfyVqodtG46"
      },
      "execution_count": 4,
      "outputs": []
    },
    {
      "cell_type": "code",
      "source": [
        "assert recover_calibration_value(\"1abc2\") == 12, \"Test failed for input '1abc2'\"\n",
        "assert recover_calibration_value(\"pqr3stu8vwx\") == 38, \"Test failed for input 'pqr3stu8vwx'\"\n",
        "assert recover_calibration_value(\"a1b2c3d4e5f\") == 15, \"Test failed for input 'a1b2c3d4e5f'\"\n",
        "assert recover_calibration_value(\"treb7uchet\") == 77, \"Test failed for input 'treb7uchet'\""
      ],
      "metadata": {
        "id": "rSDVuYztuTsC"
      },
      "execution_count": 5,
      "outputs": []
    },
    {
      "cell_type": "code",
      "source": [
        "sum([recover_calibration_value(line) for line in lines])"
      ],
      "metadata": {
        "colab": {
          "base_uri": "https://localhost:8080/"
        },
        "id": "-XBMZPlv2RsD",
        "outputId": "1e263b73-77b2-4a82-ba57-c6676a926bc3"
      },
      "execution_count": 6,
      "outputs": [
        {
          "output_type": "execute_result",
          "data": {
            "text/plain": [
              "54951"
            ]
          },
          "metadata": {},
          "execution_count": 6
        }
      ]
    },
    {
      "cell_type": "markdown",
      "source": [
        "<article class=\"day-desc\"><h2 id=\"part2\">--- Part Two ---</h2><p>Your calculation isn't quite right. It looks like some of the digits are actually <em>spelled out with letters</em>: <code>one</code>, <code>two</code>, <code>three</code>, <code>four</code>, <code>five</code>, <code>six</code>, <code>seven</code>, <code>eight</code>, and <code>nine</code> <em>also</em> count as valid \"digits\".</p>\n",
        "<p>Equipped with this new information, you now need to find the real first and last digit on each line. For example:</p>\n",
        "<pre><code>two1nine\n",
        "eightwothree\n",
        "abcone2threexyz\n",
        "xtwone3four\n",
        "4nineeightseven2\n",
        "zoneight234\n",
        "7pqrstsixteen\n",
        "</code></pre>\n",
        "<p>In this example, the calibration values are <code>29</code>, <code>83</code>, <code>13</code>, <code>24</code>, <code>42</code>, <code>14</code>, and <code>76</code>. Adding these together produces <code><em>281</em></code>.</p>\n",
        "<p><em>What is the sum of all of the calibration values?</em></p>\n",
        "</article>"
      ],
      "metadata": {
        "id": "V9uUNOWv4Uq7"
      }
    },
    {
      "cell_type": "code",
      "source": [
        "def recover_calibration_value2(line: str) -> int:\n",
        "    word_to_digit = {\n",
        "        \"one\": \"1\",\n",
        "        \"two\": \"2\",\n",
        "        \"three\": \"3\",\n",
        "        \"four\": \"4\",\n",
        "        \"five\": \"5\",\n",
        "        \"six\": \"6\",\n",
        "        \"seven\": \"7\",\n",
        "        \"eight\": \"8\",\n",
        "        \"nine\": \"9\",\n",
        "    }\n",
        "    pattern = \"|\".join(\n",
        "        [str(i) for i in range(1, 10)]\n",
        "        + list(word_to_digit.keys())\n",
        "    )\n",
        "\n",
        "    first_digit = None\n",
        "    if match := re.search(pattern=pattern, string=line):\n",
        "        first_match = match.group(0)\n",
        "        first_digit = (\n",
        "            first_match if first_match.isdigit() else word_to_digit[first_match]\n",
        "        )\n",
        "    last_digit = None\n",
        "    if match := re.search(pattern=pattern[::-1], string=line[::-1]):\n",
        "        last_match = match.group(0)[::-1]\n",
        "        last_digit = (\n",
        "            last_match if last_match.isdigit() else word_to_digit[last_match]\n",
        "        )\n",
        "    # Combine the digits and convert to integer\n",
        "    return int(f\"{first_digit}{last_digit}\") if first_digit and last_digit else 0"
      ],
      "metadata": {
        "id": "0UIaNERnBY_5"
      },
      "execution_count": 10,
      "outputs": []
    },
    {
      "cell_type": "code",
      "source": [
        "assert recover_calibration_value2(\"two1nine\") == 29, \"Test failed for two1nine\"\n",
        "assert recover_calibration_value2(\"eightwothree\") == 83, \"Test failed for eightwothree\"\n",
        "assert recover_calibration_value2(\"abcone2threexyz\") == 13, \"Test failed for abcone2threexyz\"\n",
        "assert recover_calibration_value2(\"xtwone3four\") == 24, \"Test failed for xtwone3four\"\n",
        "assert recover_calibration_value2(\"4nineeightseven2\") == 42, \"Test failed for 4nineeightseven2\"\n",
        "assert recover_calibration_value2(\"zoneight234\") == 14, \"Test failed for zoneight234\"\n",
        "assert recover_calibration_value2(\"7pqrstsixteen\") == 76, \"Test failed for 7pqrstsixteen\"\n",
        "assert recover_calibration_value2(\"eighthree\") == 83, \"Test failed for eighthree\""
      ],
      "metadata": {
        "id": "tVB7skNxAC_T"
      },
      "execution_count": 11,
      "outputs": []
    },
    {
      "cell_type": "code",
      "source": [
        "sum([recover_calibration_value2(line) for line in lines])"
      ],
      "metadata": {
        "colab": {
          "base_uri": "https://localhost:8080/"
        },
        "id": "6Mul5vlP4M6w",
        "outputId": "801cb2ed-fd13-40de-a294-1173857f3fc0"
      },
      "execution_count": 12,
      "outputs": [
        {
          "output_type": "execute_result",
          "data": {
            "text/plain": [
              "55218"
            ]
          },
          "metadata": {},
          "execution_count": 12
        }
      ]
    }
  ]
}