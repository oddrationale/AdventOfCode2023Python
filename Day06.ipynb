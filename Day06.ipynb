{
  "cells": [
    {
      "cell_type": "markdown",
      "metadata": {
        "id": "view-in-github",
        "colab_type": "text"
      },
      "source": [
        "<a href=\"https://colab.research.google.com/github/oddrationale/AdventOfCode2023Python/blob/main/Day06.ipynb\" target=\"_parent\"><img src=\"https://colab.research.google.com/assets/colab-badge.svg\" alt=\"Open In Colab\"/></a>"
      ]
    },
    {
      "cell_type": "markdown",
      "metadata": {
        "id": "oFAzFV8k0MTr"
      },
      "source": [
        "<article class=\"day-desc\"><h2>--- Day 6: Wait For It ---</h2><p>The ferry quickly brings you across Island Island. After asking around, you discover that there is indeed normally a large pile of sand somewhere near here, but you don't see anything besides lots of water and the small island where the ferry has docked.</p>\n",
        "<p>As you try to figure out what to do next, you notice a poster on a wall near the ferry dock. \"Boat races! Open to the public! Grand prize is an all-expenses-paid trip to <em>Desert Island</em>!\" That must be where the sand comes from! Best of all, the boat races are starting in just a few minutes.</p>\n",
        "<p>You manage to sign up as a competitor in the boat races just in time. The organizer explains that it's not really a traditional race - instead, you will get a fixed amount of time during which your boat has to travel as far as it can, and you win if your boat goes the farthest.</p>\n",
        "<p>As part of signing up, you get a sheet of paper (your puzzle input) that lists the <em>time</em> allowed for each race and also the best <em>distance</em> ever recorded in that race. To guarantee you win the grand prize, you need to make sure you <em>go farther in each race</em> than the current record holder.</p>\n",
        "<p>The organizer brings you over to the area where the boat races are held. The boats are much smaller than you expected - they're actually <em>toy boats</em>, each with a big button on top. Holding down the button <em>charges the boat</em>, and releasing the button <em>allows the boat to move</em>. Boats move faster if their button was held longer, but time spent holding the button counts against the total race time. You can only hold the button at the start of the race, and boats don't move until the button is released.</p>\n",
        "<p>For example:</p>\n",
        "<pre><code>Time:      7  15   30\n",
        "Distance:  9  40  200\n",
        "</code></pre>\n",
        "<p>This document describes three races:</p>\n",
        "<ul>\n",
        "<li>The first race lasts 7 milliseconds. The record distance in this race is 9 millimeters.</li>\n",
        "<li>The second race lasts 15 milliseconds. The record distance in this race is 40 millimeters.</li>\n",
        "<li>The third race lasts 30 milliseconds. The record distance in this race is 200 millimeters.</li>\n",
        "</ul>\n",
        "<p>Your toy boat has a starting speed of <em>zero millimeters per millisecond</em>. For each whole millisecond you spend at the beginning of the race holding down the button, the boat's speed increases by <em>one millimeter per millisecond</em>.</p>\n",
        "<p>So, because the first race lasts 7 milliseconds, you only have a few options:</p>\n",
        "<ul>\n",
        "<li>Don't hold the button at all (that is, hold it for <em><code>0</code> milliseconds</em>) at the start of the race. The boat won't move; it will have traveled <em><code>0</code> millimeters</em> by the end of the race.</li>\n",
        "<li>Hold the button for <em><code>1</code> millisecond</em> at the start of the race. Then, the boat will travel at a speed of <code>1</code> millimeter per millisecond for 6 milliseconds, reaching a total distance traveled of <em><code>6</code> millimeters</em>.</li>\n",
        "<li>Hold the button for <em><code>2</code> milliseconds</em>, giving the boat a speed of <code>2</code> millimeters per millisecond. It will then get 5 milliseconds to move, reaching a total distance of <em><code>10</code> millimeters</em>.</li>\n",
        "<li>Hold the button for <em><code>3</code> milliseconds</em>. After its remaining 4 milliseconds of travel time, the boat will have gone <em><code>12</code> millimeters</em>.</li>\n",
        "<li>Hold the button for <em><code>4</code> milliseconds</em>. After its remaining 3 milliseconds of travel time, the boat will have gone <em><code>12</code> millimeters</em>.</li>\n",
        "<li>Hold the button for <em><code>5</code> milliseconds</em>, causing the boat to travel a total of <em><code>10</code> millimeters</em>.</li>\n",
        "<li>Hold the button for <em><code>6</code> milliseconds</em>, causing the boat to travel a total of <em><code>6</code> millimeters</em>.</li>\n",
        "<li>Hold the button for <em><code>7</code> milliseconds</em>. That's the entire duration of the race. You never let go of the button. The boat can't move until you let go of the button. Please make sure you let go of the button so the boat gets to move. <em><code>0</code> millimeters</em>.</li>\n",
        "</ul>\n",
        "<p>Since the current record for this race is <code>9</code> millimeters, there are actually <code><em>4</em></code> different ways you could win: you could hold the button for <code>2</code>, <code>3</code>, <code>4</code>, or <code>5</code> milliseconds at the start of the race.</p>\n",
        "<p>In the second race, you could hold the button for at least <code>4</code> milliseconds and at most <code>11</code> milliseconds and beat the record, a total of <code><em>8</em></code> different ways to win.</p>\n",
        "<p>In the third race, you could hold the button for at least <code>11</code> milliseconds and no more than <code>19</code> milliseconds and still beat the record, a total of <code><em>9</em></code> ways you could win.</p>\n",
        "<p>To see how much margin of error you have, determine the <em>number of ways you can beat the record</em> in each race; in this example, if you multiply these values together, you get <code><em>288</em></code> (<code>4</code> * <code>8</code> * <code>9</code>).</p>\n",
        "<p>Determine the number of ways you could beat the record in each race. <em>What do you get if you multiply these numbers together?</em></p>\n",
        "</article>"
      ]
    },
    {
      "cell_type": "code",
      "execution_count": 1,
      "metadata": {
        "colab": {
          "base_uri": "https://localhost:8080/"
        },
        "id": "8bnd-ZZk0PAL",
        "outputId": "c8c4a748-16f4-4733-9eea-a21cfd6d4c04"
      },
      "outputs": [
        {
          "output_type": "stream",
          "name": "stdout",
          "text": [
            "Drive already mounted at /content/drive; to attempt to forcibly remount, call drive.mount(\"/content/drive\", force_remount=True).\n"
          ]
        }
      ],
      "source": [
        "from google.colab import drive\n",
        "drive.mount(r\"/content/drive\")\n",
        "\n",
        "input_file = r\"/content/drive/MyDrive/Colab Notebooks/AoC2023/input/06.txt\"\n",
        "with open(input_file, \"r\") as file:\n",
        "    input = file.read()"
      ]
    },
    {
      "cell_type": "code",
      "source": [
        "from math import prod, sqrt"
      ],
      "metadata": {
        "id": "e_XmOEcekSE5"
      },
      "execution_count": 2,
      "outputs": []
    },
    {
      "cell_type": "code",
      "source": [
        "def parse_input(input_str: str) -> list[tuple[int, int]]:\n",
        "    \"\"\"\n",
        "    Parses the input string into a list of tuples representing time and distance for each race.\n",
        "\n",
        "    Args:\n",
        "    input_str (str): A multi-line string with two lines in the format:\n",
        "                     \"Time:        <time1>    <time2>    ...\"\n",
        "                     \"Distance:    <distance1>    <distance2>    ...\"\n",
        "\n",
        "    Returns:\n",
        "    list[tuple[int, int]]: A list of tuples, each containing time and distance for a race.\n",
        "    \"\"\"\n",
        "\n",
        "    # Splitting the input string into two lines\n",
        "    lines = input_str.strip().split('\\n')\n",
        "\n",
        "    # Extracting the time and distance values\n",
        "    time_values = lines[0].split()[1:]  # Omitting the first word \"Time:\"\n",
        "    distance_values = lines[1].split()[1:]  # Omitting the first word \"Distance:\"\n",
        "\n",
        "    # Converting string values to integers\n",
        "    time_values = [int(time) for time in time_values]\n",
        "    distance_values = [int(distance) for distance in distance_values]\n",
        "\n",
        "    # Pairing time and distance values into tuples\n",
        "    races = list(zip(time_values, distance_values))\n",
        "\n",
        "    return races"
      ],
      "metadata": {
        "id": "YXIvenC9fVBg"
      },
      "execution_count": 3,
      "outputs": []
    },
    {
      "cell_type": "code",
      "source": [
        "races = parse_input(input)"
      ],
      "metadata": {
        "id": "lm_pnpoafbga"
      },
      "execution_count": 4,
      "outputs": []
    },
    {
      "cell_type": "code",
      "source": [
        "def times_to_beat_record(race: tuple[int, int]) -> list[int]:\n",
        "    \"\"\"\n",
        "    Calculates the times to hold the button to beat the record in a given race.\n",
        "\n",
        "    Args:\n",
        "    race (tuple[int, int]): A tuple containing the total time and record distance for the race.\n",
        "\n",
        "    Returns:\n",
        "    list[int]: A list of times (in milliseconds) for which holding the button beats the record.\n",
        "    \"\"\"\n",
        "    total_time, record_distance = race\n",
        "    times_to_win = []\n",
        "\n",
        "    # Iterate over possible button hold times\n",
        "    for t in range(total_time):\n",
        "        distance = t * (total_time - t)\n",
        "        if distance > record_distance:\n",
        "            times_to_win.append(t)\n",
        "\n",
        "    return times_to_win"
      ],
      "metadata": {
        "id": "9qa_n3DrhqWm"
      },
      "execution_count": 5,
      "outputs": []
    },
    {
      "cell_type": "code",
      "source": [
        "prod(len(times_to_beat_record(race)) for race in races)"
      ],
      "metadata": {
        "colab": {
          "base_uri": "https://localhost:8080/"
        },
        "id": "I0qEgjjah728",
        "outputId": "b4dc3405-5b15-4efa-9660-ef68c968dd1c"
      },
      "execution_count": 6,
      "outputs": [
        {
          "output_type": "execute_result",
          "data": {
            "text/plain": [
              "500346"
            ]
          },
          "metadata": {},
          "execution_count": 6
        }
      ]
    },
    {
      "cell_type": "markdown",
      "source": [
        "<article class=\"day-desc\"><h2 id=\"part2\">--- Part Two ---</h2><p>As the race is about to start, you realize the piece of paper with race times and record distances you got earlier actually just has <span title=\"Keming!\">very bad</span> <a href=\"https://en.wikipedia.org/wiki/Kerning\" target=\"_blank\">kerning</a>. There's really <em>only one race</em> - ignore the spaces between the numbers on each line.</p>\n",
        "<p>So, the example from before:</p>\n",
        "<pre><code>Time:      7  15   30\n",
        "Distance:  9  40  200\n",
        "</code></pre>\n",
        "<p>...now instead means this:</p>\n",
        "<pre><code>Time:      71530\n",
        "Distance:  940200\n",
        "</code></pre>\n",
        "<p>Now, you have to figure out how many ways there are to win this single race. In this example, the race lasts for <em><code>71530</code> milliseconds</em> and the record distance you need to beat is <em><code>940200</code> millimeters</em>. You could hold the button anywhere from <code>14</code> to <code>71516</code> milliseconds and beat the record, a total of <code><em>71503</em></code> ways!</p>\n",
        "<p><em>How many ways can you beat the record in this one much longer race?</em></p>\n",
        "</article>"
      ],
      "metadata": {
        "id": "x9Jm-aD9kzi-"
      }
    },
    {
      "cell_type": "code",
      "source": [
        "def parse_input2(input_str: str) -> tuple[int, int]:\n",
        "    \"\"\"\n",
        "    Parses the input string into a tuple representing the time and distance the race.\n",
        "\n",
        "    Args:\n",
        "    input_str (str): A multi-line string with two lines in the format:\n",
        "                     \"Time:        <time1>    <time2>    ...\"\n",
        "                     \"Distance:    <distance1>    <distance2>    ...\"\n",
        "\n",
        "    Returns:\n",
        "    tuple[int, int]: A tuple containing the time and distance for the race.\n",
        "    \"\"\"\n",
        "\n",
        "    # Splitting the input string into two lines\n",
        "    lines = input_str.strip().split('\\n')\n",
        "\n",
        "    # Extracting the time and distance values\n",
        "    time = int(\"\".join(lines[0].split()[1:]))  # Omitting the first word \"Time:\"\n",
        "    distance = int(\"\".join(lines[1].split()[1:]))  # Omitting the first word \"Distance:\"\n",
        "\n",
        "    return time, distance"
      ],
      "metadata": {
        "id": "lKwWy1KEjVEP"
      },
      "execution_count": 7,
      "outputs": []
    },
    {
      "cell_type": "code",
      "source": [
        "race = parse_input2(input)"
      ],
      "metadata": {
        "id": "kwRV5y_ApBpu"
      },
      "execution_count": 8,
      "outputs": []
    },
    {
      "cell_type": "code",
      "source": [
        "def ways_to_win(race: tuple[int, int]) -> int:\n",
        "    \"\"\"\n",
        "    Finds the number of ways to beat the record distance in the race.\n",
        "\n",
        "    Args:\n",
        "    race (tuple[int, int]): A tuple of the time for the race and the current record distance.\n",
        "\n",
        "    Returns:\n",
        "    int: The number of ways to beat the record.\n",
        "    \"\"\"\n",
        "\n",
        "    # Solving the quadratic equation -t^2 + Tt = d for t\n",
        "    # Using the quadratic formula: t = (-b ± sqrt(b^2 - 4ac)) / 2a\n",
        "    # Here, a = -1, b = T, c = -d\n",
        "\n",
        "    a = -1\n",
        "    b = race[0]\n",
        "    c = -race[1]\n",
        "\n",
        "    # Calculating discriminant\n",
        "    discriminant = b**2 - 4*a*c\n",
        "\n",
        "    # Solving for t\n",
        "    t1 = (-b + sqrt(discriminant)) / (2*a)\n",
        "    t2 = (-b - sqrt(discriminant)) / (2*a)\n",
        "\n",
        "    # The valid range for t is between these two solutions\n",
        "    lower_bound = min(t1, t2)\n",
        "    upper_bound = max(t1, t2)\n",
        "\n",
        "    return int(upper_bound - lower_bound)"
      ],
      "metadata": {
        "id": "as2JRHIOlTw2"
      },
      "execution_count": 9,
      "outputs": []
    },
    {
      "cell_type": "code",
      "source": [
        "ways_to_win(race)"
      ],
      "metadata": {
        "colab": {
          "base_uri": "https://localhost:8080/"
        },
        "id": "-eQeD4zJnPm5",
        "outputId": "bfa0b5d4-af3d-42cf-e227-d4fc36c21ac6"
      },
      "execution_count": 10,
      "outputs": [
        {
          "output_type": "execute_result",
          "data": {
            "text/plain": [
              "42515755"
            ]
          },
          "metadata": {},
          "execution_count": 10
        }
      ]
    }
  ],
  "metadata": {
    "colab": {
      "provenance": [],
      "authorship_tag": "ABX9TyNou/F+W0DgfBFV8FXJGliG",
      "include_colab_link": true
    },
    "kernelspec": {
      "display_name": "Python 3",
      "name": "python3"
    },
    "language_info": {
      "name": "python"
    }
  },
  "nbformat": 4,
  "nbformat_minor": 0
}