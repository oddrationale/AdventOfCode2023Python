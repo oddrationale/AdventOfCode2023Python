{
  "cells": [
    {
      "cell_type": "markdown",
      "metadata": {
        "id": "view-in-github",
        "colab_type": "text"
      },
      "source": [
        "<a href=\"https://colab.research.google.com/github/oddrationale/AdventOfCode2023Python/blob/main/Day03.ipynb\" target=\"_parent\"><img src=\"https://colab.research.google.com/assets/colab-badge.svg\" alt=\"Open In Colab\"/></a>"
      ]
    },
    {
      "cell_type": "markdown",
      "metadata": {
        "id": "oFAzFV8k0MTr"
      },
      "source": [
        "<article class=\"day-desc\"><h2>--- Day 3: Gear Ratios ---</h2><p>You and the Elf eventually reach a <a href=\"https://en.wikipedia.org/wiki/Gondola_lift\" target=\"_blank\">gondola lift</a> station; he says the gondola lift will take you up to the <em>water source</em>, but this is as far as he can bring you. You go inside.</p>\n",
        "<p>It doesn't take long to find the gondolas, but there seems to be a problem: they're not moving.</p>\n",
        "<p>\"Aaah!\"</p>\n",
        "<p>You turn around to see a slightly-greasy Elf with a wrench and a look of surprise. \"Sorry, I wasn't expecting anyone! The gondola lift isn't working right now; it'll still be a while before I can fix it.\" You offer to help.</p>\n",
        "<p>The engineer explains that an engine part seems to be missing from the engine, but nobody can figure out which one. If you can <em>add up all the part numbers</em> in the engine schematic, it should be easy to work out which part is missing.</p>\n",
        "<p>The engine schematic (your puzzle input) consists of a visual representation of the engine. There are lots of numbers and symbols you don't really understand, but apparently <em>any number adjacent to a symbol</em>, even diagonally, is a \"part number\" and should be included in your sum. (Periods (<code>.</code>) do not count as a symbol.)</p>\n",
        "<p>Here is an example engine schematic:</p>\n",
        "<pre><code>467..114..\n",
        "...*......\n",
        "..35..633.\n",
        "......#...\n",
        "617*......\n",
        ".....+.58.\n",
        "..592.....\n",
        "......755.\n",
        "...$.*....\n",
        ".664.598..\n",
        "</code></pre>\n",
        "<p>In this schematic, two numbers are <em>not</em> part numbers because they are not adjacent to a symbol: <code>114</code> (top right) and <code>58</code> (middle right). Every other number is adjacent to a symbol and so <em>is</em> a part number; their sum is <code><em>4361</em></code>.</p>\n",
        "<p>Of course, the actual engine schematic is much larger. <em>What is the sum of all of the part numbers in the engine schematic?</em></p>\n",
        "</article>"
      ]
    },
    {
      "cell_type": "code",
      "execution_count": 1,
      "metadata": {
        "colab": {
          "base_uri": "https://localhost:8080/"
        },
        "id": "8bnd-ZZk0PAL",
        "outputId": "b8375c52-e453-4306-f314-30744bb66c20"
      },
      "outputs": [
        {
          "output_type": "stream",
          "name": "stdout",
          "text": [
            "Drive already mounted at /content/drive; to attempt to forcibly remount, call drive.mount(\"/content/drive\", force_remount=True).\n"
          ]
        }
      ],
      "source": [
        "from google.colab import drive\n",
        "drive.mount(r\"/content/drive\")\n",
        "\n",
        "input_file = r\"/content/drive/MyDrive/Colab Notebooks/AoC2023/input/03.txt\"\n",
        "with open(input_file, \"r\") as file:\n",
        "    input = file.read()"
      ]
    },
    {
      "cell_type": "code",
      "source": [
        "import re\n",
        "\n",
        "from itertools import product\n",
        "from typing import List\n",
        "\n",
        "from pydantic import BaseModel"
      ],
      "metadata": {
        "id": "qzy1RbpXm7_u"
      },
      "execution_count": 2,
      "outputs": []
    },
    {
      "cell_type": "code",
      "source": [
        "engine_schematic = [line for line in input.splitlines() if line]"
      ],
      "metadata": {
        "id": "xuq-lvgqYRse"
      },
      "execution_count": 3,
      "outputs": []
    },
    {
      "cell_type": "code",
      "source": [
        "class Number(BaseModel):\n",
        "    \"\"\"\n",
        "    Represents a numeric entity within an engine schematic.\n",
        "\n",
        "    Attributes:\n",
        "        value (int): The numerical value of the entity.\n",
        "        start_x (int): The starting x-coordinate of the entity in the schematic.\n",
        "        end_x (int): The ending x-coordinate of the entity in the schematic.\n",
        "        y (int): The y-coordinate (row) where the entity is located in the schematic.\n",
        "    \"\"\"\n",
        "\n",
        "    value: int\n",
        "    start_x: int\n",
        "    end_x: int\n",
        "    y: int\n",
        "\n",
        "    def is_part_number(self, engine_schematic: List[str]) -> bool:\n",
        "        \"\"\"\n",
        "        Determines whether the number is a \"part number\".\n",
        "\n",
        "        This method checks the adjacent cells around the number in the engine schematic. If any adjacent cell contains\n",
        "        a character that is not a dot or a digit, the method concludes that this number is a part number.\n",
        "\n",
        "        Args:\n",
        "            engine_schematic (List[str]): A list of strings representing the engine schematic, where each string\n",
        "                                          is a row in the schematic.\n",
        "\n",
        "        Returns:\n",
        "            bool: True if the number is a part number, False otherwise.\n",
        "        \"\"\"\n",
        "\n",
        "        # Get the dimensions of the engine schematic\n",
        "        max_y = len(engine_schematic)\n",
        "        max_x = len(engine_schematic[0])\n",
        "\n",
        "        # Generate coordinates for all adjacent cells\n",
        "        adjacent_coordinates = product(\n",
        "            range(self.y - 1, self.y + 2),\n",
        "            range(self.start_x - 1, self.end_x + 2)\n",
        "        )\n",
        "\n",
        "        # Extract characters from these coordinates, excluding the number itself\n",
        "        adjacent_characters = [\n",
        "            engine_schematic[y][x]\n",
        "            for y, x in adjacent_coordinates\n",
        "            if 0 <= y < max_y and 0 <= x < max_x\n",
        "            and (y != self.y or x not in range(self.start_x, self.end_x + 1))\n",
        "        ]\n",
        "\n",
        "        # Check if any adjacent character is not a dot or a digit\n",
        "        return any(c for c in adjacent_characters if c not in \".0123456789\")\n"
      ],
      "metadata": {
        "id": "AAiqOWdmnJ0l"
      },
      "execution_count": 4,
      "outputs": []
    },
    {
      "cell_type": "code",
      "source": [
        "def find_numbers(engine_schematic: List[str]) -> List[Number]:\n",
        "    \"\"\"\n",
        "    Identifies and extracts numbers from an engine schematic.\n",
        "\n",
        "    This function scans through each line of the engine schematic, using regular expressions to find\n",
        "    sequences of digits which represent numbers. For each found number, it creates a 'Number' instance\n",
        "    recording the number's value and its position in the schematic.\n",
        "\n",
        "    Args:\n",
        "        engine_schematic (List[str]): A list of strings representing the engine schematic, where each string\n",
        "                                      is a row in the schematic.\n",
        "\n",
        "    Returns:\n",
        "        List[Number]: A list of 'Number' objects, each representing a number found in the schematic.\n",
        "    \"\"\"\n",
        "\n",
        "    numbers = []\n",
        "    for y, line in enumerate(engine_schematic):\n",
        "        # Search for sequences of digits in each line\n",
        "        for m in re.finditer(r\"\\d+\", line):\n",
        "            numbers.append(Number(\n",
        "                value=int(m.group(0)),\n",
        "                start_x=m.start(),\n",
        "                end_x=m.end() - 1,\n",
        "                y=y,\n",
        "            ))\n",
        "    return numbers"
      ],
      "metadata": {
        "id": "d6YoMOZL9ucC"
      },
      "execution_count": 5,
      "outputs": []
    },
    {
      "cell_type": "code",
      "source": [
        "# Calculate the sum of values of numbers that are a part number\n",
        "sum([n.value for n in find_numbers(engine_schematic) if n.is_part_number(engine_schematic)])"
      ],
      "metadata": {
        "colab": {
          "base_uri": "https://localhost:8080/"
        },
        "id": "__Yv6C1aGui5",
        "outputId": "06570989-0493-48db-ba19-feeba4d9741d"
      },
      "execution_count": 6,
      "outputs": [
        {
          "output_type": "execute_result",
          "data": {
            "text/plain": [
              "531932"
            ]
          },
          "metadata": {},
          "execution_count": 6
        }
      ]
    },
    {
      "cell_type": "markdown",
      "source": [
        "<article class=\"day-desc\"><h2 id=\"part2\">--- Part Two ---</h2><p>The engineer finds the missing part and installs it in the engine! As the engine springs to life, you jump in the closest gondola, finally ready to ascend to the water source.</p>\n",
        "<p>You don't seem to be going very fast, though. Maybe something is still wrong? Fortunately, the gondola has a phone labeled \"help\", so you pick it up and the engineer answers.</p>\n",
        "<p>Before you can explain the situation, she suggests that you look out the window. There stands the engineer, holding a phone in one hand and waving with the other. You're going so slowly that you haven't even left the station. You exit the gondola.</p>\n",
        "<p>The missing part wasn't the only issue - one of the gears in the engine is wrong. A <em>gear</em> is any <code>*</code> symbol that is adjacent to <em>exactly two part numbers</em>. Its <em>gear ratio</em> is the result of <span title=\"They're magic gears.\">multiplying</span> those two numbers together.</p>\n",
        "<p>This time, you need to find the gear ratio of every gear and add them all up so that the engineer can figure out which gear needs to be replaced.</p>\n",
        "<p>Consider the same engine schematic again:</p>\n",
        "<pre><code>467..114..\n",
        "...*......\n",
        "..35..633.\n",
        "......#...\n",
        "617*......\n",
        ".....+.58.\n",
        "..592.....\n",
        "......755.\n",
        "...$.*....\n",
        ".664.598..\n",
        "</code></pre>\n",
        "<p>In this schematic, there are <em>two</em> gears. The first is in the top left; it has part numbers <code>467</code> and <code>35</code>, so its gear ratio is <code>16345</code>. The second gear is in the lower right; its gear ratio is <code>451490</code>. (The <code>*</code> adjacent to <code>617</code> is <em>not</em> a gear because it is only adjacent to one part number.) Adding up all of the gear ratios produces <code><em>467835</em></code>.</p>\n",
        "<p><em>What is the sum of all of the gear ratios in your engine schematic?</em></p>\n",
        "</article>"
      ],
      "metadata": {
        "id": "yPVhHsEHNjq2"
      }
    },
    {
      "cell_type": "code",
      "source": [
        "class Gear(BaseModel):\n",
        "    \"\"\"\n",
        "    Represents a gear in the engine schematic, defined by two part numbers.\n",
        "\n",
        "    Attributes:\n",
        "        part_number_1 (int): The first part number associated with the gear.\n",
        "        part_number_2 (int): The second part number associated with the gear.\n",
        "    \"\"\"\n",
        "\n",
        "    part_number_1: int\n",
        "    part_number_2: int\n",
        "\n",
        "    def gear_ratio(self) -> int:\n",
        "        \"\"\"\n",
        "        Calculates the gear ratio based on the two part numbers.\n",
        "\n",
        "        Returns:\n",
        "            int: The product of the two part numbers representing the gear ratio.\n",
        "        \"\"\"\n",
        "        return self.part_number_1 * self.part_number_2"
      ],
      "metadata": {
        "id": "sgk0J6hXNBf4"
      },
      "execution_count": 7,
      "outputs": []
    },
    {
      "cell_type": "code",
      "source": [
        "def find_gears(engine_schematic: List[str]) -> List[Gear]:\n",
        "    \"\"\"\n",
        "    Identifies and extracts gears from an engine schematic.\n",
        "\n",
        "    This function scans the engine schematic for gears, represented by asterisks (*). It identifies the part numbers\n",
        "    adjacent to each gear and constructs a Gear object for each pair of part numbers found adjacent to a gear.\n",
        "\n",
        "    Args:\n",
        "        engine_schematic (List[str]): A list of strings representing the engine schematic, where each string\n",
        "                                      is a row in the schematic.\n",
        "\n",
        "    Returns:\n",
        "        List[Gear]: A list of 'Gear' objects, each representing a gear found in the schematic.\n",
        "    \"\"\"\n",
        "\n",
        "    gears = []\n",
        "    max_y = len(engine_schematic)\n",
        "    max_x = len(engine_schematic[0])\n",
        "\n",
        "    # Iterate through each line and character in the schematic\n",
        "    for y in range(max_y):\n",
        "        for m in re.finditer(r\"\\*\", engine_schematic[y]):\n",
        "            adjacent_part_number = []\n",
        "\n",
        "            # Check the current and adjacent lines for part numbers near the gear\n",
        "            for dy in [-1, 0, 1]:\n",
        "                if 0 <= y + dy < max_y:\n",
        "                    for n in re.finditer(r\"\\d+\", engine_schematic[y + dy]):\n",
        "                        if m.start() in range(n.start() - 1, n.end() + 1):\n",
        "                            adjacent_part_number.append(int(n.group(0)))\n",
        "\n",
        "            # Create a Gear object if exactly two part numbers are found adjacent to the gear\n",
        "            if len(adjacent_part_number) == 2:\n",
        "                gears.append(Gear(part_number_1=adjacent_part_number[0], part_number_2=adjacent_part_number[1]))\n",
        "\n",
        "    return gears"
      ],
      "metadata": {
        "id": "v4bB6y-rQYh0"
      },
      "execution_count": 8,
      "outputs": []
    },
    {
      "cell_type": "code",
      "source": [
        "# Calculate the sum of gear ratios for all gears found in the engine schematic\n",
        "sum([g.gear_ratio() for g in find_gears(engine_schematic)])"
      ],
      "metadata": {
        "colab": {
          "base_uri": "https://localhost:8080/"
        },
        "id": "bIdI2m0FUZVj",
        "outputId": "a0aa0df7-8172-4cc6-8302-1746d40f237c"
      },
      "execution_count": 9,
      "outputs": [
        {
          "output_type": "execute_result",
          "data": {
            "text/plain": [
              "73646890"
            ]
          },
          "metadata": {},
          "execution_count": 9
        }
      ]
    }
  ],
  "metadata": {
    "colab": {
      "provenance": [],
      "authorship_tag": "ABX9TyPj7SYpJDBVbV5ziW6q8jkM",
      "include_colab_link": true
    },
    "kernelspec": {
      "display_name": "Python 3",
      "name": "python3"
    },
    "language_info": {
      "name": "python"
    }
  },
  "nbformat": 4,
  "nbformat_minor": 0
}