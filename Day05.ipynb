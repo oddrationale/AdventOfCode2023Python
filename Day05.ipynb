{
  "cells": [
    {
      "cell_type": "markdown",
      "metadata": {
        "id": "view-in-github",
        "colab_type": "text"
      },
      "source": [
        "<a href=\"https://colab.research.google.com/github/oddrationale/AdventOfCode2023Python/blob/main/Day05.ipynb\" target=\"_parent\"><img src=\"https://colab.research.google.com/assets/colab-badge.svg\" alt=\"Open In Colab\"/></a>"
      ]
    },
    {
      "cell_type": "markdown",
      "metadata": {
        "id": "oFAzFV8k0MTr"
      },
      "source": [
        "<article class=\"day-desc\"><h2>--- Day 5: If You Give A Seed A Fertilizer ---</h2><p>You take the boat and find the gardener right where you were told he would be: managing a giant \"garden\" that looks more to you like a farm.</p>\n",
        "<p>\"A water source? Island Island <em>is</em> the water source!\" You point out that Snow Island isn't receiving any water.</p>\n",
        "<p>\"Oh, we had to stop the water because we <em>ran out of sand</em> to <a href=\"https://en.wikipedia.org/wiki/Sand_filter\" target=\"_blank\">filter</a> it with! Can't make snow with dirty water. Don't worry, I'm sure we'll get more sand soon; we only turned off the water a few days... weeks... oh no.\" His face sinks into a look of horrified realization.</p>\n",
        "<p>\"I've been so busy making sure everyone here has food that I completely forgot to check why we stopped getting more sand! There's a ferry leaving soon that is headed over in that direction - it's much faster than your boat. Could you please go check it out?\"</p>\n",
        "<p>You barely have time to agree to this request when he brings up another. \"While you wait for the ferry, maybe you can help us with our <em>food production problem</em>. The latest Island Island <a href=\"https://en.wikipedia.org/wiki/Almanac\" target=\"_blank\">Almanac</a> just arrived and we're having trouble making sense of it.\"</p>\n",
        "<p>The almanac (your puzzle input) lists all of the seeds that need to be planted. It also lists what type of soil to use with each kind of seed, what type of fertilizer to use with each kind of soil, what type of water to use with each kind of fertilizer, and so on. Every type of seed, soil, fertilizer and so on is identified with a number, but numbers are reused by each category - that is, soil <code>123</code> and fertilizer <code>123</code> aren't necessarily related to each other.</p>\n",
        "<p>For example:</p>\n",
        "<pre><code>seeds: 79 14 55 13\n",
        "\n",
        "seed-to-soil map:\n",
        "50 98 2\n",
        "52 50 48\n",
        "\n",
        "soil-to-fertilizer map:\n",
        "0 15 37\n",
        "37 52 2\n",
        "39 0 15\n",
        "\n",
        "fertilizer-to-water map:\n",
        "49 53 8\n",
        "0 11 42\n",
        "42 0 7\n",
        "57 7 4\n",
        "\n",
        "water-to-light map:\n",
        "88 18 7\n",
        "18 25 70\n",
        "\n",
        "light-to-temperature map:\n",
        "45 77 23\n",
        "81 45 19\n",
        "68 64 13\n",
        "\n",
        "temperature-to-humidity map:\n",
        "0 69 1\n",
        "1 0 69\n",
        "\n",
        "humidity-to-location map:\n",
        "60 56 37\n",
        "56 93 4\n",
        "</code></pre>\n",
        "<p>The almanac starts by listing which seeds need to be planted: seeds <code>79</code>, <code>14</code>, <code>55</code>, and <code>13</code>.</p>\n",
        "<p>The rest of the almanac contains a list of <em>maps</em> which describe how to convert numbers from a <em>source category</em> into numbers in a <em>destination category</em>. That is, the section that starts with <code>seed-to-soil map:</code> describes how to convert a <em>seed number</em> (the source) to a <em>soil number</em> (the destination). This lets the gardener and his team know which soil to use with which seeds, which water to use with which fertilizer, and so on.</p>\n",
        "<p>Rather than list every source number and its corresponding destination number one by one, the maps describe entire <em>ranges</em> of numbers that can be converted. Each line within a map contains <span title=\"Don't blame me for the weird order. Blame LXC container.conf UID mappings.\">three numbers</span>: the <em>destination range start</em>, the <em>source range start</em>, and the <em>range length</em>.</p>\n",
        "<p>Consider again the example <code>seed-to-soil map</code>:</p>\n",
        "<pre><code>50 98 2\n",
        "52 50 48\n",
        "</code></pre>\n",
        "<p>The first line has a <em>destination range start</em> of <code>50</code>, a <em>source range start</em> of <code>98</code>, and a <em>range length</em> of <code>2</code>. This line means that the source range starts at <code>98</code> and contains two values: <code>98</code> and <code>99</code>. The destination range is the same length, but it starts at <code>50</code>, so its two values are <code>50</code> and <code>51</code>. With this information, you know that seed number <code>98</code> corresponds to soil number <code>50</code> and that seed number <code>99</code> corresponds to soil number <code>51</code>.</p>\n",
        "<p>The second line means that the source range starts at <code>50</code> and contains <code>48</code> values: <code>50</code>, <code>51</code>, ..., <code>96</code>, <code>97</code>. This corresponds to a destination range starting at <code>52</code> and also containing <code>48</code> values: <code>52</code>, <code>53</code>, ..., <code>98</code>, <code>99</code>. So, seed number <code>53</code> corresponds to soil number <code>55</code>.</p>\n",
        "<p>Any source numbers that <em>aren't mapped</em> correspond to the <em>same</em> destination number. So, seed number <code>10</code> corresponds to soil number <code>10</code>.</p>\n",
        "<p>So, the entire list of seed numbers and their corresponding soil numbers looks like this:</p>\n",
        "<pre><code>seed  soil\n",
        "0     0\n",
        "1     1\n",
        "...   ...\n",
        "48    48\n",
        "49    49\n",
        "50    52\n",
        "51    53\n",
        "...   ...\n",
        "96    98\n",
        "97    99\n",
        "98    50\n",
        "99    51\n",
        "</code></pre>\n",
        "<p>With this map, you can look up the soil number required for each initial seed number:</p>\n",
        "<ul>\n",
        "<li>Seed number <code>79</code> corresponds to soil number <code>81</code>.</li>\n",
        "<li>Seed number <code>14</code> corresponds to soil number <code>14</code>.</li>\n",
        "<li>Seed number <code>55</code> corresponds to soil number <code>57</code>.</li>\n",
        "<li>Seed number <code>13</code> corresponds to soil number <code>13</code>.</li>\n",
        "</ul>\n",
        "<p>The gardener and his team want to get started as soon as possible, so they'd like to know the closest location that needs a seed. Using these maps, find <em>the lowest location number that corresponds to any of the initial seeds</em>. To do this, you'll need to convert each seed number through other categories until you can find its corresponding <em>location number</em>. In this example, the corresponding types are:</p>\n",
        "<ul>\n",
        "<li>Seed <code>79</code>, soil <code>81</code>, fertilizer <code>81</code>, water <code>81</code>, light <code>74</code>, temperature <code>78</code>, humidity <code>78</code>, <em>location <code>82</code></em>.</li>\n",
        "<li>Seed <code>14</code>, soil <code>14</code>, fertilizer <code>53</code>, water <code>49</code>, light <code>42</code>, temperature <code>42</code>, humidity <code>43</code>, <em>location <code>43</code></em>.</li>\n",
        "<li>Seed <code>55</code>, soil <code>57</code>, fertilizer <code>57</code>, water <code>53</code>, light <code>46</code>, temperature <code>82</code>, humidity <code>82</code>, <em>location <code>86</code></em>.</li>\n",
        "<li>Seed <code>13</code>, soil <code>13</code>, fertilizer <code>52</code>, water <code>41</code>, light <code>34</code>, temperature <code>34</code>, humidity <code>35</code>, <em>location <code>35</code></em>.</li>\n",
        "</ul>\n",
        "<p>So, the lowest location number in this example is <code><em>35</em></code>.</p>\n",
        "<p><em>What is the lowest location number that corresponds to any of the initial seed numbers?</em></p>\n",
        "</article>"
      ]
    },
    {
      "cell_type": "code",
      "execution_count": 1,
      "metadata": {
        "colab": {
          "base_uri": "https://localhost:8080/"
        },
        "id": "8bnd-ZZk0PAL",
        "outputId": "afb782af-1978-4c91-acc0-c8aa454c13eb"
      },
      "outputs": [
        {
          "output_type": "stream",
          "name": "stdout",
          "text": [
            "Drive already mounted at /content/drive; to attempt to forcibly remount, call drive.mount(\"/content/drive\", force_remount=True).\n"
          ]
        }
      ],
      "source": [
        "from google.colab import drive\n",
        "drive.mount(r\"/content/drive\")\n",
        "\n",
        "input_file = r\"/content/drive/MyDrive/Colab Notebooks/AoC2023/input/05.txt\"\n",
        "with open(input_file, \"r\") as file:\n",
        "    input = file.read()"
      ]
    },
    {
      "cell_type": "code",
      "source": [
        "from functools import reduce\n",
        "from pydantic import BaseModel"
      ],
      "metadata": {
        "id": "qzy1RbpXm7_u"
      },
      "execution_count": 2,
      "outputs": []
    },
    {
      "cell_type": "code",
      "source": [
        "class Range(BaseModel):\n",
        "    destination_start: int\n",
        "    source_start: int\n",
        "    length: int\n",
        "\n",
        "    @classmethod\n",
        "    def from_string(cls, string: str) -> 'Range':\n",
        "        \"\"\"\n",
        "        Create a Range instance from a string.\n",
        "        The string format is expected to be 'destination_start source_start length'.\n",
        "        \"\"\"\n",
        "        destination_start, source_start, length = map(int, string.split())\n",
        "        return cls(destination_start=destination_start, source_start=source_start, length=length)\n",
        "\n",
        "class Map(BaseModel):\n",
        "    ranges: list[Range]\n",
        "\n",
        "    def get_destination(self, source_number: int) -> int:\n",
        "        \"\"\"\n",
        "        Return the destination number for a given source number according to the map.\n",
        "        If the source number is not in the map, it maps to itself.\n",
        "        \"\"\"\n",
        "        for range_item in self.ranges:\n",
        "            # Check if source_number is within the current range\n",
        "            if range_item.source_start <= source_number < range_item.source_start + range_item.length:\n",
        "                # Calculate the offset from the start of the source range\n",
        "                offset = source_number - range_item.source_start\n",
        "                # Return the corresponding destination number\n",
        "                return range_item.destination_start + offset\n",
        "\n",
        "        # If the source number is not in any range, it maps to itself\n",
        "        return source_number\n",
        "\n",
        "    # for Part 2\n",
        "    def process_ranges(self, input_ranges: list[tuple[int, int]]) -> list[tuple[int, int]]:\n",
        "        \"\"\"\n",
        "        Processes a list of ranges based on the map's transformations.\n",
        "\n",
        "        Args:\n",
        "        input_ranges (list[tuple[int, int]]): A list of tuples where each tuple contains\n",
        "                                              the start of the range and its length.\n",
        "\n",
        "        Returns:\n",
        "        list[tuple[int, int]]: A list of tuples in the same format after applying the map's transformations.\n",
        "        \"\"\"\n",
        "        output_ranges = []\n",
        "\n",
        "        for start, length in input_ranges:\n",
        "            end = start + length\n",
        "            transformed = False\n",
        "\n",
        "            for range_item in self.ranges:\n",
        "                map_start = range_item.source_start\n",
        "                map_end = range_item.source_start + range_item.length\n",
        "                map_dest_start = range_item.destination_start\n",
        "\n",
        "                # Check for overlap and split the range if necessary\n",
        "                if start < map_end and end > map_start:\n",
        "                    transformed = True\n",
        "\n",
        "                    # Before overlap\n",
        "                    if start < map_start:\n",
        "                        output_ranges.append((start, map_start - start))\n",
        "\n",
        "                    # Overlapping part\n",
        "                    overlap_start = max(start, map_start)\n",
        "                    overlap_end = min(end, map_end)\n",
        "                    overlap_length = overlap_end - overlap_start\n",
        "                    dest_start = map_dest_start + (overlap_start - map_start)\n",
        "                    output_ranges.append((dest_start, overlap_length))\n",
        "\n",
        "                    # After overlap\n",
        "                    if end > map_end:\n",
        "                        start = map_end\n",
        "                        length = end - map_end\n",
        "                        # Continue the loop to check for further overlaps\n",
        "                        continue\n",
        "\n",
        "            # If no transformation was applied, keep the range as is\n",
        "            if not transformed:\n",
        "                output_ranges.append((start, length))\n",
        "\n",
        "        return output_ranges\n",
        "\n",
        "    @classmethod\n",
        "    def from_string(cls, string: str) -> 'Map':\n",
        "        \"\"\"\n",
        "        Create a Map instance from a string.\n",
        "        Each line in the string represents a range in the format 'destination_start source_start length'.\n",
        "        \"\"\"\n",
        "        ranges = [Range.from_string(line) for line in string.splitlines()]\n",
        "        return cls(ranges=ranges)\n",
        "\n",
        "    def __call__(self, source_number: int) -> int:\n",
        "        \"\"\"\n",
        "        Allows the instance to be called like a function.\n",
        "        This will be equivalent to calling get_destination.\n",
        "        \"\"\"\n",
        "        return self.get_destination(source_number)"
      ],
      "metadata": {
        "id": "GrN6wF6DU_Lf"
      },
      "execution_count": 3,
      "outputs": []
    },
    {
      "cell_type": "code",
      "source": [
        "def parse_puzzle_input(string: str) -> tuple[list[int], tuple[Map]]:\n",
        "    \"\"\"\n",
        "    Parses the puzzle input string into seeds and their corresponding maps.\n",
        "\n",
        "    Args:\n",
        "    string (str): A string containing the puzzle input. It includes a list of seeds and several mapping sections.\n",
        "\n",
        "    Returns:\n",
        "    tuple[list[int], Map, Map, Map, Map, Map, Map, Map]: A tuple containing the following elements:\n",
        "        - list of seed numbers (list[int])\n",
        "        - Seed-to-soil map (Map)\n",
        "        - Soil-to-fertilizer map (Map)\n",
        "        - Fertilizer-to-water map (Map)\n",
        "        - Water-to-light map (Map)\n",
        "        - Light-to-temperature map (Map)\n",
        "        - Temperature-to-humidity map (Map)\n",
        "        - Humidity-to-location map (Map)\n",
        "    \"\"\"\n",
        "\n",
        "    # Split the input into sections\n",
        "    sections = string.split('\\n\\n')\n",
        "\n",
        "    # Extract seeds from the first section\n",
        "    seeds = list(map(int, sections[0].split(': ')[1].split()))\n",
        "\n",
        "    # Extract maps from the remaining sections\n",
        "    seed_to_soil_map = Map.from_string(sections[1].split(':\\n')[1])\n",
        "    soil_to_fertilizer_map = Map.from_string(sections[2].split(':\\n')[1])\n",
        "    fertilizer_to_water_map = Map.from_string(sections[3].split(':\\n')[1])\n",
        "    water_to_light_map = Map.from_string(sections[4].split(':\\n')[1])\n",
        "    light_to_temperature_map = Map.from_string(sections[5].split(':\\n')[1])\n",
        "    temperature_to_humidity_map = Map.from_string(sections[6].split(':\\n')[1])\n",
        "    humidity_to_location_map = Map.from_string(sections[7].split(':\\n')[1])\n",
        "\n",
        "    return (\n",
        "        seeds,\n",
        "        (\n",
        "            seed_to_soil_map,\n",
        "            soil_to_fertilizer_map,\n",
        "            fertilizer_to_water_map,\n",
        "            water_to_light_map,\n",
        "            light_to_temperature_map,\n",
        "            temperature_to_humidity_map,\n",
        "            humidity_to_location_map,\n",
        "        )\n",
        "    )"
      ],
      "metadata": {
        "id": "3KU4djjBVZR-"
      },
      "execution_count": 4,
      "outputs": []
    },
    {
      "cell_type": "code",
      "source": [
        "input = \"\"\"seeds: 79 14 55 13\n",
        "\n",
        "seed-to-soil map:\n",
        "50 98 2\n",
        "52 50 48\n",
        "\n",
        "soil-to-fertilizer map:\n",
        "0 15 37\n",
        "37 52 2\n",
        "39 0 15\n",
        "\n",
        "fertilizer-to-water map:\n",
        "49 53 8\n",
        "0 11 42\n",
        "42 0 7\n",
        "57 7 4\n",
        "\n",
        "water-to-light map:\n",
        "88 18 7\n",
        "18 25 70\n",
        "\n",
        "light-to-temperature map:\n",
        "45 77 23\n",
        "81 45 19\n",
        "68 64 13\n",
        "\n",
        "temperature-to-humidity map:\n",
        "0 69 1\n",
        "1 0 69\n",
        "\n",
        "humidity-to-location map:\n",
        "60 56 37\n",
        "56 93 4\n",
        "\"\"\""
      ],
      "metadata": {
        "id": "5UY7xu3te4j1"
      },
      "execution_count": 5,
      "outputs": []
    },
    {
      "cell_type": "code",
      "source": [
        "def seed_to_location_map(seed: int, maps: list[Map]) -> int:\n",
        "    \"\"\"\n",
        "    Transforms a seed number to its corresponding location number\n",
        "    by applying a sequence of maps.\n",
        "\n",
        "    Args:\n",
        "    seed (int): The initial seed number.\n",
        "    maps (list[Map]): A list of Map objects to apply, in order.\n",
        "\n",
        "    Returns:\n",
        "    int: The final location number after applying all maps.\n",
        "    \"\"\"\n",
        "    return reduce(lambda acc, map_obj: map_obj(acc), maps, seed)\n"
      ],
      "metadata": {
        "id": "As2kFtDwpb0X"
      },
      "execution_count": 6,
      "outputs": []
    },
    {
      "cell_type": "code",
      "source": [
        "seeds, maps = parse_puzzle_input(input)"
      ],
      "metadata": {
        "id": "Rc7UfDSun4DU"
      },
      "execution_count": 7,
      "outputs": []
    },
    {
      "cell_type": "code",
      "source": [
        "min(seed_to_location_map(seed, maps) for seed in seeds)"
      ],
      "metadata": {
        "colab": {
          "base_uri": "https://localhost:8080/"
        },
        "id": "jro8b4_KtLSH",
        "outputId": "b197bc1c-d868-4f19-916d-947008cbbc2d"
      },
      "execution_count": 8,
      "outputs": [
        {
          "output_type": "execute_result",
          "data": {
            "text/plain": [
              "35"
            ]
          },
          "metadata": {},
          "execution_count": 8
        }
      ]
    },
    {
      "cell_type": "markdown",
      "source": [
        "<article class=\"day-desc\"><h2 id=\"part2\">--- Part Two ---</h2><p>Everyone will starve if you only plant such a small number of seeds. Re-reading the almanac, it looks like the <code>seeds:</code> line actually describes <em>ranges of seed numbers</em>.</p>\n",
        "<p>The values on the initial <code>seeds:</code> line come in pairs. Within each pair, the first value is the <em>start</em> of the range and the second value is the <em>length</em> of the range. So, in the first line of the example above:</p>\n",
        "<pre><code>seeds: 79 14 55 13</code></pre>\n",
        "<p>This line describes two ranges of seed numbers to be planted in the garden. The first range starts with seed number <code>79</code> and contains <code>14</code> values: <code>79</code>, <code>80</code>, ..., <code>91</code>, <code>92</code>. The second range starts with seed number <code>55</code> and contains <code>13</code> values: <code>55</code>, <code>56</code>, ..., <code>66</code>, <code>67</code>.</p>\n",
        "<p>Now, rather than considering four seed numbers, you need to consider a total of <em>27</em> seed numbers.</p>\n",
        "<p>In the above example, the lowest location number can be obtained from seed number <code>82</code>, which corresponds to soil <code>84</code>, fertilizer <code>84</code>, water <code>84</code>, light <code>77</code>, temperature <code>45</code>, humidity <code>46</code>, and <em>location <code>46</code></em>. So, the lowest location number is <code><em>46</em></code>.</p>\n",
        "<p>Consider all of the initial seed numbers listed in the ranges on the first line of the almanac. <em>What is the lowest location number that corresponds to any of the initial seed numbers?</em></p>\n",
        "</article>"
      ],
      "metadata": {
        "id": "gmAV4vQbvlju"
      }
    },
    {
      "cell_type": "code",
      "source": [
        "def parse_seed_ranges(input_str: str) -> list[tuple[int, int]]:\n",
        "    \"\"\"\n",
        "    Parses the seed ranges from the puzzle input string.\n",
        "\n",
        "    Args:\n",
        "    input_str (str): The full puzzle input string.\n",
        "\n",
        "    Returns:\n",
        "    list[tuple[int, int]]: A list of tuples where each tuple contains the start of the range and its length.\n",
        "    \"\"\"\n",
        "    # Extract the line containing the seed ranges\n",
        "    seed_line = input_str.splitlines()[0]\n",
        "    seed_parts = seed_line.split(': ')[1].split()\n",
        "\n",
        "    # Parse the seed ranges into tuples\n",
        "    seed_ranges = [(int(seed_parts[i]), int(seed_parts[i + 1])) for i in range(0, len(seed_parts), 2)]\n",
        "\n",
        "    return seed_ranges"
      ],
      "metadata": {
        "id": "h2XhEyz2vM2S"
      },
      "execution_count": 9,
      "outputs": []
    },
    {
      "cell_type": "code",
      "source": [
        "def seed_to_location_range_map(seed_ranges: list[tuple[int, int]], maps: list[Map]) -> list[tuple[int, int]]:\n",
        "    \"\"\"\n",
        "    Transforms a list of seed ranges through a series of maps to find corresponding location ranges.\n",
        "\n",
        "    Args:\n",
        "    seed_ranges (list[tuple[int, int]]): A list of tuples representing seed ranges, where each tuple contains the start of the range and its length.\n",
        "    maps (list[Map]): A list of Map objects to apply in sequence.\n",
        "\n",
        "    Returns:\n",
        "    list[tuple[int, int]]: A list of tuples representing the location ranges after all transformations.\n",
        "    \"\"\"\n",
        "    return reduce(lambda acc, map_obj: map_obj.process_ranges(acc), maps, seed_ranges)\n"
      ],
      "metadata": {
        "id": "DA7Zqox0_WBS"
      },
      "execution_count": 10,
      "outputs": []
    },
    {
      "cell_type": "code",
      "source": [
        "seed_ranges = parse_seed_ranges(input)"
      ],
      "metadata": {
        "id": "uuskA_hgxRiA"
      },
      "execution_count": 11,
      "outputs": []
    },
    {
      "cell_type": "code",
      "source": [
        "location_ranges = seed_to_location_range_map(seed_ranges, maps)"
      ],
      "metadata": {
        "id": "uondLCd0-p4z"
      },
      "execution_count": 12,
      "outputs": []
    },
    {
      "cell_type": "code",
      "source": [
        "min(location for location, _ in location_ranges)"
      ],
      "metadata": {
        "colab": {
          "base_uri": "https://localhost:8080/"
        },
        "id": "almBx2OR_eJ2",
        "outputId": "1f62fa55-3319-4ee4-ea43-f3d253364fd3"
      },
      "execution_count": 13,
      "outputs": [
        {
          "output_type": "execute_result",
          "data": {
            "text/plain": [
              "46"
            ]
          },
          "metadata": {},
          "execution_count": 13
        }
      ]
    }
  ],
  "metadata": {
    "colab": {
      "provenance": [],
      "authorship_tag": "ABX9TyNRPoodqXIrhF6bT46Sq3A2",
      "include_colab_link": true
    },
    "kernelspec": {
      "display_name": "Python 3",
      "name": "python3"
    },
    "language_info": {
      "name": "python"
    }
  },
  "nbformat": 4,
  "nbformat_minor": 0
}