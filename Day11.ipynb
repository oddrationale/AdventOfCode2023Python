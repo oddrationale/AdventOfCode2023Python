{
  "cells": [
    {
      "cell_type": "markdown",
      "metadata": {
        "id": "view-in-github",
        "colab_type": "text"
      },
      "source": [
        "<a href=\"https://colab.research.google.com/github/oddrationale/AdventOfCode2023Python/blob/main/Day11.ipynb\" target=\"_parent\"><img src=\"https://colab.research.google.com/assets/colab-badge.svg\" alt=\"Open In Colab\"/></a>"
      ]
    },
    {
      "cell_type": "markdown",
      "metadata": {
        "id": "oFAzFV8k0MTr"
      },
      "source": [
        "<article class=\"day-desc\"><h2>--- Day 11: Cosmic Expansion ---</h2><p>You continue following signs for \"Hot Springs\" and eventually come across an <a href=\"https://en.wikipedia.org/wiki/Observatory\" target=\"_blank\">observatory</a>. The Elf within turns out to be a researcher studying cosmic expansion using the giant telescope here.</p>\n",
        "<p>He doesn't know anything about the missing machine parts; he's only visiting for this research project. However, he confirms that the hot springs are the next-closest area likely to have people; he'll even take you straight there once he's done with today's observation analysis.</p>\n",
        "<p>Maybe you can help him with the analysis to speed things up?</p>\n",
        "<p>The researcher has collected a bunch of data and compiled the data into a single giant <em>image</em> (your puzzle input). The image includes <em>empty space</em> (<code>.</code>) and <em>galaxies</em> (<code>#</code>). For example:</p>\n",
        "<pre><code>...#......\n",
        ".......#..\n",
        "#.........\n",
        "..........\n",
        "......#...\n",
        ".#........\n",
        ".........#\n",
        "..........\n",
        ".......#..\n",
        "#...#.....\n",
        "</code></pre>\n",
        "<p>The researcher is trying to figure out the sum of the lengths of the <em>shortest path between every pair of galaxies</em>. However, there's a catch: the universe expanded in the time it took the light from those galaxies to reach the observatory.</p>\n",
        "<p>Due to something involving gravitational effects, <em>only some space expands</em>. In fact, the result is that <em>any rows or columns that contain no galaxies</em> should all actually be twice as big.</p>\n",
        "<p>In the above example, three columns and two rows contain no galaxies:</p>\n",
        "<pre><code>   v  v  v\n",
        " ...#......\n",
        " .......#..\n",
        " #.........\n",
        "&gt;..........&lt;\n",
        " ......#...\n",
        " .#........\n",
        " .........#\n",
        "&gt;..........&lt;\n",
        " .......#..\n",
        " #...#.....\n",
        "   ^  ^  ^\n",
        "</code></pre>\n",
        "<p>These rows and columns need to be <em>twice as big</em>; the result of cosmic expansion therefore looks like this:</p>\n",
        "<pre><code>....#........\n",
        ".........#...\n",
        "#............\n",
        ".............\n",
        ".............\n",
        "........#....\n",
        ".#...........\n",
        "............#\n",
        ".............\n",
        ".............\n",
        ".........#...\n",
        "#....#.......\n",
        "</code></pre>\n",
        "<p>Equipped with this expanded universe, the shortest path between every pair of galaxies can be found. It can help to assign every galaxy a unique number:</p>\n",
        "<pre><code>....1........\n",
        ".........2...\n",
        "3............\n",
        ".............\n",
        ".............\n",
        "........4....\n",
        ".5...........\n",
        "............6\n",
        ".............\n",
        ".............\n",
        ".........7...\n",
        "8....9.......\n",
        "</code></pre>\n",
        "<p>In these 9 galaxies, there are <em>36 pairs</em>. Only count each pair once; order within the pair doesn't matter. For each pair, find any shortest path between the two galaxies using only steps that move up, down, left, or right exactly one <code>.</code> or <code>#</code> at a time. (The shortest path between two galaxies is allowed to pass through another galaxy.)</p>\n",
        "<p>For example, here is one of the shortest paths between galaxies <code>5</code> and <code>9</code>:</p>\n",
        "<pre><code>....1........\n",
        ".........2...\n",
        "3............\n",
        ".............\n",
        ".............\n",
        "........4....\n",
        ".5...........\n",
        ".##.........6\n",
        "..##.........\n",
        "...##........\n",
        "....##...7...\n",
        "8....9.......\n",
        "</code></pre>\n",
        "<p>This path has length <code><em>9</em></code> because it takes a minimum of <em>nine steps</em> to get from galaxy <code>5</code> to galaxy <code>9</code> (the eight locations marked <code>#</code> plus the step onto galaxy <code>9</code> itself). Here are some other example shortest path lengths:</p>\n",
        "<ul>\n",
        "<li>Between galaxy <code>1</code> and galaxy <code>7</code>: 15</li>\n",
        "<li>Between galaxy <code>3</code> and galaxy <code>6</code>: 17</li>\n",
        "<li>Between galaxy <code>8</code> and galaxy <code>9</code>: 5</li>\n",
        "</ul>\n",
        "<p>In this example, after expanding the universe, the sum of the shortest path between all 36 pairs of galaxies is <code><em>374</em></code>.</p>\n",
        "<p>Expand the universe, then find the length of the shortest path between every pair of galaxies. <em>What is the sum of these lengths?</em></p>\n",
        "</article>"
      ]
    },
    {
      "cell_type": "code",
      "execution_count": 1,
      "metadata": {
        "colab": {
          "base_uri": "https://localhost:8080/"
        },
        "id": "8bnd-ZZk0PAL",
        "outputId": "469005ed-7834-4cc9-bef6-4aee85167a8c"
      },
      "outputs": [
        {
          "output_type": "stream",
          "name": "stdout",
          "text": [
            "Drive already mounted at /content/drive; to attempt to forcibly remount, call drive.mount(\"/content/drive\", force_remount=True).\n"
          ]
        }
      ],
      "source": [
        "from google.colab import drive\n",
        "drive.mount(r\"/content/drive\")\n",
        "\n",
        "input_file = r\"/content/drive/MyDrive/Colab Notebooks/AoC2023/input/11.txt\"\n",
        "with open(input_file, \"r\") as file:\n",
        "    input = file.read()"
      ]
    },
    {
      "cell_type": "code",
      "source": [
        "from bisect import bisect_left\n",
        "from itertools import combinations"
      ],
      "metadata": {
        "id": "r4nFbeufmY0P"
      },
      "execution_count": 2,
      "outputs": []
    },
    {
      "cell_type": "code",
      "source": [
        "def parse_input(input_str: str) -> list[tuple[int, int]]:\n",
        "    \"\"\"\n",
        "    Parses the input string to find the positions of galaxies.\n",
        "\n",
        "    Args:\n",
        "    input_str (str): A multiline string representing the puzzle input.\n",
        "                     Galaxies are marked with '#', and empty space is marked with '.'.\n",
        "\n",
        "    Returns:\n",
        "    list[tuple[int, int]]: A list of tuples, where each tuple contains the (row, column) indices of a galaxy.\n",
        "    \"\"\"\n",
        "    galaxies = []\n",
        "    rows = input_str.strip().split('\\n')\n",
        "\n",
        "    for i, row in enumerate(rows):\n",
        "        for j, char in enumerate(row):\n",
        "            if char == '#':\n",
        "                galaxies.append((i, j))\n",
        "\n",
        "    return galaxies"
      ],
      "metadata": {
        "id": "209bsLzsyBCL"
      },
      "execution_count": 3,
      "outputs": []
    },
    {
      "cell_type": "code",
      "source": [
        "def find_empty_rows_columns(input_str: str) -> tuple[list[int], list[int]]:\n",
        "    \"\"\"\n",
        "    Finds the row and column indexes that do not contain galaxies.\n",
        "\n",
        "    Args:\n",
        "    input_str (str): A multiline string representing the puzzle input.\n",
        "\n",
        "    Returns:\n",
        "    tuple[list[int], list[int]]: Two lists, the first containing indexes of empty rows\n",
        "                                  and the second containing indexes of empty columns.\n",
        "    \"\"\"\n",
        "    rows = input_str.strip().split('\\n')\n",
        "    num_rows = len(rows)\n",
        "    num_cols = len(rows[0])\n",
        "\n",
        "    # Initialize lists to track galaxy presence in rows and columns\n",
        "    galaxy_in_row = [False] * num_rows\n",
        "    galaxy_in_col = [False] * num_cols\n",
        "\n",
        "    for i, row in enumerate(rows):\n",
        "        for j, char in enumerate(row):\n",
        "            if char == '#':\n",
        "                galaxy_in_row[i] = True\n",
        "                galaxy_in_col[j] = True\n",
        "\n",
        "    # Find indexes of empty rows and columns\n",
        "    empty_rows = [i for i in range(num_rows) if not galaxy_in_row[i]]\n",
        "    empty_cols = [j for j in range(num_cols) if not galaxy_in_col[j]]\n",
        "\n",
        "    return empty_rows, empty_cols"
      ],
      "metadata": {
        "id": "CT0qXZKPztAd"
      },
      "execution_count": 4,
      "outputs": []
    },
    {
      "cell_type": "code",
      "source": [
        "def expand_galaxies(galaxies: list[tuple[int, int]],\n",
        "                    empty_rows: list[int],\n",
        "                    empty_cols: list[int],\n",
        "                    expansion_factor: int) -> list[tuple[int, int]]:\n",
        "    \"\"\"\n",
        "    Calculates the new positions of galaxies after expanding the universe using binary search.\n",
        "\n",
        "    Args:\n",
        "    galaxies (list[tuple[int, int]]): List of tuples representing the original positions of galaxies.\n",
        "    empty_rows (list[int]): List of indexes of rows that are empty.\n",
        "    empty_cols (list[int]): List of indexes of columns that are empty.\n",
        "    expansion_factor (int): The factor by which empty rows and columns expand.\n",
        "\n",
        "    Returns:\n",
        "    list[tuple[int, int]]: A list of tuples representing the new positions of galaxies.\n",
        "    \"\"\"\n",
        "    def get_new_position(old_pos: int, empty_indices: list[int]) -> int:\n",
        "        \"\"\"\n",
        "        Calculates the new position after expansion using binary search.\n",
        "\n",
        "        Args:\n",
        "        old_pos (int): The original position (row or column index).\n",
        "        empty_indices (list[int]): List of empty row or column indexes.\n",
        "\n",
        "        Returns:\n",
        "        int: The new position after expansion.\n",
        "        \"\"\"\n",
        "        return old_pos + bisect_left(empty_indices, old_pos) * (expansion_factor - 1)\n",
        "\n",
        "    new_galaxies = [(get_new_position(row, empty_rows), get_new_position(col, empty_cols))\n",
        "                    for row, col in galaxies]\n",
        "\n",
        "    return new_galaxies"
      ],
      "metadata": {
        "id": "2LQLfrP80fhS"
      },
      "execution_count": 5,
      "outputs": []
    },
    {
      "cell_type": "code",
      "source": [
        "def sum_of_manhattan_distances(galaxies: list[tuple[int, int]]) -> int:\n",
        "    \"\"\"\n",
        "    Calculates the sum of Manhattan distances between every unique pair of galaxies.\n",
        "\n",
        "    Args:\n",
        "    galaxies (list[tuple[int, int]]): A list of tuples representing the positions of galaxies.\n",
        "\n",
        "    Returns:\n",
        "    int: The sum of the Manhattan distances between every unique pair of galaxies.\n",
        "    \"\"\"\n",
        "    def manhattan_distance(pos1: tuple[int, int], pos2: tuple[int, int]) -> int:\n",
        "        \"\"\"\n",
        "        Calculates the Manhattan distance between two points.\n",
        "\n",
        "        Args:\n",
        "        pos1, pos2 (tuple[int, int]): The positions of two points.\n",
        "\n",
        "        Returns:\n",
        "        int: The Manhattan distance between the points.\n",
        "        \"\"\"\n",
        "        return abs(pos1[0] - pos2[0]) + abs(pos1[1] - pos2[1])\n",
        "\n",
        "    distance_sum = sum(manhattan_distance(pair[0], pair[1]) for pair in combinations(galaxies, 2))\n",
        "\n",
        "    return distance_sum"
      ],
      "metadata": {
        "id": "VJmKqI8a2P16"
      },
      "execution_count": 6,
      "outputs": []
    },
    {
      "cell_type": "code",
      "source": [
        "sum_of_manhattan_distances(\n",
        "    expand_galaxies(\n",
        "        parse_input(input),\n",
        "        *find_empty_rows_columns(input),\n",
        "        2,\n",
        "    )\n",
        ")"
      ],
      "metadata": {
        "colab": {
          "base_uri": "https://localhost:8080/"
        },
        "id": "mC1CV3IT3xMM",
        "outputId": "aafe6644-a0fa-47b5-f69e-92d9ac9cfde3"
      },
      "execution_count": 7,
      "outputs": [
        {
          "output_type": "execute_result",
          "data": {
            "text/plain": [
              "9609130"
            ]
          },
          "metadata": {},
          "execution_count": 7
        }
      ]
    },
    {
      "cell_type": "markdown",
      "source": [
        "<article class=\"day-desc\"><h2 id=\"part2\">--- Part Two ---</h2><p>The galaxies are much <em>older</em> (and thus much <em>farther apart</em>) than the researcher initially estimated.</p>\n",
        "<p>Now, instead of the expansion you did before, make each empty row or column <em><span title=\"And you have to have your pinky near your mouth when you do it.\">one million</span> times</em> larger. That is, each empty row should be replaced with <code>1000000</code> empty rows, and each empty column should be replaced with <code>1000000</code> empty columns.</p>\n",
        "<p>(In the example above, if each empty row or column were merely <code>10</code> times larger, the sum of the shortest paths between every pair of galaxies would be <code><em>1030</em></code>. If each empty row or column were merely <code>100</code> times larger, the sum of the shortest paths between every pair of galaxies would be <code><em>8410</em></code>. However, your universe will need to expand far beyond these values.)</p>\n",
        "<p>Starting with the same initial image, expand the universe according to these new rules, then find the length of the shortest path between every pair of galaxies. <em>What is the sum of these lengths?</em></p>\n",
        "</article>"
      ],
      "metadata": {
        "id": "p4k4yUfB8os0"
      }
    },
    {
      "cell_type": "code",
      "source": [
        "sum_of_manhattan_distances(\n",
        "    expand_galaxies(\n",
        "        parse_input(input),\n",
        "        *find_empty_rows_columns(input),\n",
        "        1000000,\n",
        "    )\n",
        ")"
      ],
      "metadata": {
        "colab": {
          "base_uri": "https://localhost:8080/"
        },
        "id": "9hfY_fCf7sXl",
        "outputId": "c62b2313-7c27-44a0-8f3f-3cd47a1ddba0"
      },
      "execution_count": 8,
      "outputs": [
        {
          "output_type": "execute_result",
          "data": {
            "text/plain": [
              "702152204842"
            ]
          },
          "metadata": {},
          "execution_count": 8
        }
      ]
    }
  ],
  "metadata": {
    "colab": {
      "provenance": [],
      "authorship_tag": "ABX9TyOR+kh6sSEaxIf4PkXiEEc4",
      "include_colab_link": true
    },
    "kernelspec": {
      "display_name": "Python 3",
      "name": "python3"
    },
    "language_info": {
      "name": "python"
    }
  },
  "nbformat": 4,
  "nbformat_minor": 0
}