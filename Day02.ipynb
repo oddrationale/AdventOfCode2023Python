{
  "cells": [
    {
      "cell_type": "markdown",
      "metadata": {
        "id": "view-in-github",
        "colab_type": "text"
      },
      "source": [
        "<a href=\"https://colab.research.google.com/github/oddrationale/AdventOfCode2023Python/blob/main/Day02.ipynb\" target=\"_parent\"><img src=\"https://colab.research.google.com/assets/colab-badge.svg\" alt=\"Open In Colab\"/></a>"
      ]
    },
    {
      "cell_type": "markdown",
      "metadata": {
        "id": "oFAzFV8k0MTr"
      },
      "source": [
        "<article class=\"day-desc\"><h2>--- Day 2: Cube Conundrum ---</h2><p>You're launched high into the atmosphere! The apex of your trajectory just barely reaches the surface of a large island floating in the sky. You gently land in a fluffy pile of leaves. It's quite cold, but you don't see much snow. An Elf runs over to greet you.</p>\n",
        "<p>The Elf explains that you've arrived at <em>Snow Island</em> and apologizes for the lack of snow. He'll be happy to explain the situation, but it's a bit of a walk, so you have some time. They don't get many visitors up here; <span title=\"No, the Elf's name is not 'WOPR'. It's Joshua.\">would you like to play a game</span> in the meantime?</p>\n",
        "<p>As you walk, the Elf shows you a small bag and some cubes which are either red, green, or blue. Each time you play this game, he will hide a secret number of cubes of each color in the bag, and your goal is to figure out information about the number of cubes.</p>\n",
        "<p>To get information, once a bag has been loaded with cubes, the Elf will reach into the bag, grab a handful of random cubes, show them to you, and then put them back in the bag. He'll do this a few times per game.</p>\n",
        "<p>You play several games and record the information from each game (your puzzle input). Each game is listed with its ID number (like the <code>11</code> in <code>Game 11: ...</code>) followed by a semicolon-separated list of subsets of cubes that were revealed from the bag (like <code>3 red, 5 green, 4 blue</code>).</p>\n",
        "<p>For example, the record of a few games might look like this:</p>\n",
        "<pre><code>Game 1: 3 blue, 4 red; 1 red, 2 green, 6 blue; 2 green\n",
        "Game 2: 1 blue, 2 green; 3 green, 4 blue, 1 red; 1 green, 1 blue\n",
        "Game 3: 8 green, 6 blue, 20 red; 5 blue, 4 red, 13 green; 5 green, 1 red\n",
        "Game 4: 1 green, 3 red, 6 blue; 3 green, 6 red; 3 green, 15 blue, 14 red\n",
        "Game 5: 6 red, 1 blue, 3 green; 2 blue, 1 red, 2 green\n",
        "</code></pre>\n",
        "<p>In game 1, three sets of cubes are revealed from the bag (and then put back again). The first set is 3 blue cubes and 4 red cubes; the second set is 1 red cube, 2 green cubes, and 6 blue cubes; the third set is only 2 green cubes.</p>\n",
        "<p>The Elf would first like to know which games would have been possible if the bag contained <em>only 12 red cubes, 13 green cubes, and 14 blue cubes</em>?</p>\n",
        "<p>In the example above, games 1, 2, and 5 would have been <em>possible</em> if the bag had been loaded with that configuration. However, game 3 would have been <em>impossible</em> because at one point the Elf showed you 20 red cubes at once; similarly, game 4 would also have been <em>impossible</em> because the Elf showed you 15 blue cubes at once. If you add up the IDs of the games that would have been possible, you get <code><em>8</em></code>.</p>\n",
        "<p>Determine which games would have been possible if the bag had been loaded with only 12 red cubes, 13 green cubes, and 14 blue cubes. <em>What is the sum of the IDs of those games?</em></p>\n",
        "</article>"
      ]
    },
    {
      "cell_type": "code",
      "execution_count": 1,
      "metadata": {
        "colab": {
          "base_uri": "https://localhost:8080/"
        },
        "id": "8bnd-ZZk0PAL",
        "outputId": "255d629c-432e-4a54-ab1c-4b049cfc529b"
      },
      "outputs": [
        {
          "output_type": "stream",
          "name": "stdout",
          "text": [
            "Drive already mounted at /content/drive; to attempt to forcibly remount, call drive.mount(\"/content/drive\", force_remount=True).\n"
          ]
        }
      ],
      "source": [
        "from google.colab import drive\n",
        "drive.mount(r\"/content/drive\")\n",
        "\n",
        "input_file = r\"/content/drive/MyDrive/Colab Notebooks/AoC2023/input/02.txt\"\n",
        "with open(input_file, \"r\") as file:\n",
        "    input = file.read()"
      ]
    },
    {
      "cell_type": "code",
      "execution_count": 2,
      "metadata": {
        "id": "eZLN1hue2cJJ"
      },
      "outputs": [],
      "source": [
        "from pydantic import BaseModel\n",
        "from typing import List\n",
        "\n",
        "\n",
        "class Set(BaseModel):\n",
        "    red: int = 0\n",
        "    green: int = 0\n",
        "    blue: int = 0\n",
        "\n",
        "\n",
        "class Game(BaseModel):\n",
        "    game_id: int\n",
        "    sets: List[Set]\n",
        "\n",
        "    @classmethod\n",
        "    def from_string(cls, string: str) -> \"Game\":\n",
        "        game_str, sets_str = string.split(\": \")\n",
        "        game_id = int(game_str.split(\" \")[-1])\n",
        "\n",
        "        sets = [\n",
        "            dict([(k, v) for v, k in [color.split() for color in s.split(\", \")]])\n",
        "            for s in sets_str.split(\"; \")\n",
        "        ]\n",
        "\n",
        "        return cls.parse_obj(\n",
        "            {\n",
        "                \"game_id\": game_id,\n",
        "                \"sets\": sets,\n",
        "            }\n",
        "        )\n",
        "\n",
        "    def is_possible(self, red: int, green: int, blue: int) -> bool:\n",
        "        for s in self.sets:\n",
        "            if s.red > red or s.green > green or s.blue > blue:\n",
        "                return False\n",
        "        return True\n",
        "\n",
        "    # for part 2\n",
        "    def power(self) -> int:\n",
        "        max_red = max([s.red for s in self.sets])\n",
        "        max_green = max([s.green for s in self.sets])\n",
        "        max_blue = max([s.blue for s in self.sets])\n",
        "        return max_red * max_green * max_blue"
      ]
    },
    {
      "cell_type": "code",
      "source": [
        "assert Game.from_string(\"Game 1: 3 blue, 4 red; 1 red, 2 green, 6 blue; 2 green\").is_possible(12, 13, 14) == True\n",
        "assert Game.from_string(\"Game 2: 1 blue, 2 green; 3 green, 4 blue, 1 red; 1 green, 1 blue\").is_possible(12, 13, 14) == True\n",
        "assert Game.from_string(\"Game 3: 8 green, 6 blue, 20 red; 5 blue, 4 red, 13 green; 5 green, 1 red\").is_possible(12, 13, 14) == False\n",
        "assert Game.from_string(\"Game 4: 1 green, 3 red, 6 blue; 3 green, 6 red; 3 green, 15 blue, 14 red\").is_possible(12, 13, 14) == False\n",
        "assert Game.from_string(\"Game 5: 6 red, 1 blue, 3 green; 2 blue, 1 red, 2 green\").is_possible(12, 13, 14) == True"
      ],
      "metadata": {
        "id": "poKUXyGKFnVg"
      },
      "execution_count": 3,
      "outputs": []
    },
    {
      "cell_type": "code",
      "source": [
        "games = [Game.from_string(line) for line in input.split(\"\\n\") if line]"
      ],
      "metadata": {
        "id": "LbJbkKzSIDIc"
      },
      "execution_count": 4,
      "outputs": []
    },
    {
      "cell_type": "code",
      "source": [
        "sum([game.game_id for game in games if game.is_possible(12, 13, 14)])"
      ],
      "metadata": {
        "colab": {
          "base_uri": "https://localhost:8080/"
        },
        "id": "vSSfd-BgIIzZ",
        "outputId": "d1ea3c82-e462-4306-a267-001470678f3e"
      },
      "execution_count": 5,
      "outputs": [
        {
          "output_type": "execute_result",
          "data": {
            "text/plain": [
              "2447"
            ]
          },
          "metadata": {},
          "execution_count": 5
        }
      ]
    },
    {
      "cell_type": "markdown",
      "source": [
        "<article class=\"day-desc\"><h2 id=\"part2\">--- Part Two ---</h2><p>The Elf says they've stopped producing snow because they aren't getting any <em>water</em>! He isn't sure why the water stopped; however, he can show you how to get to the water source to check it out for yourself. It's just up ahead!</p>\n",
        "<p>As you continue your walk, the Elf poses a second question: in each game you played, what is the <em>fewest number of cubes of each color</em> that could have been in the bag to make the game possible?</p>\n",
        "<p>Again consider the example games from earlier:</p>\n",
        "<pre><code>Game 1: 3 blue, 4 red; 1 red, 2 green, 6 blue; 2 green\n",
        "Game 2: 1 blue, 2 green; 3 green, 4 blue, 1 red; 1 green, 1 blue\n",
        "Game 3: 8 green, 6 blue, 20 red; 5 blue, 4 red, 13 green; 5 green, 1 red\n",
        "Game 4: 1 green, 3 red, 6 blue; 3 green, 6 red; 3 green, 15 blue, 14 red\n",
        "Game 5: 6 red, 1 blue, 3 green; 2 blue, 1 red, 2 green\n",
        "</code></pre>\n",
        "<ul>\n",
        "<li>In game 1, the game could have been played with as few as 4 red, 2 green, and 6 blue cubes. If any color had even one fewer cube, the game would have been impossible.</li>\n",
        "<li>Game 2 could have been played with a minimum of 1 red, 3 green, and 4 blue cubes.<li>\n",
        "<li>Game 3 must have been played with at least 20 red, 13 green, and 6 blue cubes.</li>\n",
        "<li>Game 4 required at least 14 red, 3 green, and 15 blue cubes.</li>\n",
        "<li>Game 5 needed no fewer than 6 red, 3 green, and 2 blue cubes in the bag.</li>\n",
        "</ul>\n",
        "<p>The <em>power</em> of a set of cubes is equal to the numbers of red, green, and blue cubes multiplied together. The power of the minimum set of cubes in game 1 is <code>48</code>. In games 2-5 it was <code>12</code>, <code>1560</code>, <code>630</code>, and <code>36</code>, respectively. Adding up these five powers produces the sum <code><em>2286</em></code>.</p>\n",
        "<p>For each game, find the minimum set of cubes that must have been present. <em>What is the sum of the power of these sets?</em></p>\n",
        "</article>"
      ],
      "metadata": {
        "id": "mvkVq2WGKY6Q"
      }
    },
    {
      "cell_type": "code",
      "source": [
        "assert Game.from_string(\"Game 1: 3 blue, 4 red; 1 red, 2 green, 6 blue; 2 green\").power() == 48\n",
        "assert Game.from_string(\"Game 2: 1 blue, 2 green; 3 green, 4 blue, 1 red; 1 green, 1 blue\").power() == 12\n",
        "assert Game.from_string(\"Game 3: 8 green, 6 blue, 20 red; 5 blue, 4 red, 13 green; 5 green, 1 red\").power() == 1560\n",
        "assert Game.from_string(\"Game 4: 1 green, 3 red, 6 blue; 3 green, 6 red; 3 green, 15 blue, 14 red\").power() == 630\n",
        "assert Game.from_string(\"Game 5: 6 red, 1 blue, 3 green; 2 blue, 1 red, 2 green\").power() == 36"
      ],
      "metadata": {
        "id": "dvurj58cKYaO"
      },
      "execution_count": 6,
      "outputs": []
    },
    {
      "cell_type": "code",
      "source": [
        "sum([game.power() for game in games])"
      ],
      "metadata": {
        "colab": {
          "base_uri": "https://localhost:8080/"
        },
        "id": "aZAp36t0JmEH",
        "outputId": "307615b1-1e5a-4899-9c20-75cd39410df9"
      },
      "execution_count": 7,
      "outputs": [
        {
          "output_type": "execute_result",
          "data": {
            "text/plain": [
              "56322"
            ]
          },
          "metadata": {},
          "execution_count": 7
        }
      ]
    }
  ],
  "metadata": {
    "colab": {
      "provenance": [],
      "authorship_tag": "ABX9TyNsspmbcekN55DGmahT0JzE",
      "include_colab_link": true
    },
    "kernelspec": {
      "display_name": "Python 3",
      "name": "python3"
    },
    "language_info": {
      "name": "python"
    }
  },
  "nbformat": 4,
  "nbformat_minor": 0
}