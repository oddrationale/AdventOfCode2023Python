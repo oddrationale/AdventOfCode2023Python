{
  "cells": [
    {
      "cell_type": "markdown",
      "metadata": {
        "id": "view-in-github",
        "colab_type": "text"
      },
      "source": [
        "<a href=\"https://colab.research.google.com/github/oddrationale/AdventOfCode2023Python/blob/main/Day12.ipynb\" target=\"_parent\"><img src=\"https://colab.research.google.com/assets/colab-badge.svg\" alt=\"Open In Colab\"/></a>"
      ]
    },
    {
      "cell_type": "markdown",
      "metadata": {
        "id": "oFAzFV8k0MTr"
      },
      "source": [
        "<article class=\"day-desc\"><h2>--- Day 12: Hot Springs ---</h2><p>You finally reach the hot springs! You can see steam rising from secluded areas attached to the primary, ornate building.</p>\n",
        "<p>As you turn to enter, the <a href=\"11\">researcher</a> stops you. \"Wait - I thought you were looking for the hot springs, weren't you?\" You indicate that this definitely looks like hot springs to you.</p>\n",
        "<p>\"Oh, sorry, common mistake! This is actually the <a href=\"https://en.wikipedia.org/wiki/Onsen\" target=\"_blank\">onsen</a>! The hot springs are next door.\"</p>\n",
        "<p>You look in the direction the researcher is pointing and suddenly notice the <span title=\"I love this joke. I'm not sorry.\">massive metal helixes</span> towering overhead. \"This way!\"</p>\n",
        "<p>It only takes you a few more steps to reach the main gate of the massive fenced-off area containing the springs. You go through the gate and into a small administrative building.</p>\n",
        "<p>\"Hello! What brings you to the hot springs today? Sorry they're not very hot right now; we're having a <em>lava shortage</em> at the moment.\" You ask about the missing machine parts for Desert Island.</p>\n",
        "<p>\"Oh, all of Gear Island is currently offline! Nothing is being manufactured at the moment, not until we get more lava to heat our forges. And our springs. The springs aren't very springy unless they're hot!\"</p>\n",
        "<p>\"Say, could you go up and see why the lava stopped flowing? The springs are too cold for normal operation, but we should be able to find one springy enough to launch <em>you</em> up there!\"</p>\n",
        "<p>There's just one problem - many of the springs have fallen into disrepair, so they're not actually sure which springs would even be <em>safe</em> to use! Worse yet, their <em>condition records of which springs are damaged</em> (your puzzle input) are also damaged! You'll need to help them repair the damaged records.</p>\n",
        "<p>In the giant field just outside, the springs are arranged into <em>rows</em>. For each row, the condition records show every spring and whether it is <em>operational</em> (<code>.</code>) or <em>damaged</em> (<code>#</code>). This is the part of the condition records that is itself damaged; for some springs, it is simply <em>unknown</em> (<code>?</code>) whether the spring is operational or damaged.</p>\n",
        "<p>However, the engineer that produced the condition records also duplicated some of this information in a different format! After the list of springs for a given row, the size of each <em>contiguous group of damaged springs</em> is listed in the order those groups appear in the row. This list always accounts for every damaged spring, and each number is the entire size of its contiguous group (that is, groups are always separated by at least one operational spring: <code>####</code> would always be <code>4</code>, never <code>2,2</code>).</p>\n",
        "<p>So, condition records with no unknown spring conditions might look like this:</p>\n",
        "<pre><code>#.#.### 1,1,3\n",
        ".#...#....###. 1,1,3\n",
        ".#.###.#.###### 1,3,1,6\n",
        "####.#...#... 4,1,1\n",
        "#....######..#####. 1,6,5\n",
        ".###.##....# 3,2,1\n",
        "</code></pre>\n",
        "<p>However, the condition records are partially damaged; some of the springs' conditions are actually <em>unknown</em> (<code>?</code>). For example:</p>\n",
        "<pre><code>???.### 1,1,3\n",
        ".??..??...?##. 1,1,3\n",
        "?#?#?#?#?#?#?#? 1,3,1,6\n",
        "????.#...#... 4,1,1\n",
        "????.######..#####. 1,6,5\n",
        "?###???????? 3,2,1\n",
        "</code></pre>\n",
        "<p>Equipped with this information, it is your job to figure out <em>how many different arrangements</em> of operational and broken springs fit the given criteria in each row.</p>\n",
        "<p>In the first line (<code>???.### 1,1,3</code>), there is exactly <em>one</em> way separate groups of one, one, and three broken springs (in that order) can appear in that row: the first three unknown springs must be broken, then operational, then broken (<code>#.#</code>), making the whole row <code>#.#.###</code>.</p>\n",
        "<p>The second line is more interesting: <code>.??..??...?##. 1,1,3</code> could be a total of <em>four</em> different arrangements. The last <code>?</code> must always be broken (to satisfy the final contiguous group of three broken springs), and each <code>??</code> must hide exactly one of the two broken springs. (Neither <code>??</code> could be both broken springs or they would form a single contiguous group of two; if that were true, the numbers afterward would have been <code>2,3</code> instead.) Since each <code>??</code> can either be <code>#.</code> or <code>.#</code>, there are four possible arrangements of springs.</p>\n",
        "<p>The last line is actually consistent with <em>ten</em> different arrangements! Because the first number is <code>3</code>, the first and second <code>?</code> must both be <code>.</code> (if either were <code>#</code>, the first number would have to be <code>4</code> or higher). However, the remaining run of unknown spring conditions have many different ways they could hold groups of two and one broken springs:</p>\n",
        "<pre><code>?###???????? 3,2,1\n",
        ".###.##.#...\n",
        ".###.##..#..\n",
        ".###.##...#.\n",
        ".###.##....#\n",
        ".###..##.#..\n",
        ".###..##..#.\n",
        ".###..##...#\n",
        ".###...##.#.\n",
        ".###...##..#\n",
        ".###....##.#\n",
        "</code></pre>\n",
        "<p>In this example, the number of possible arrangements for each row is:</p>\n",
        "<ul>\n",
        "<li><code>???.### 1,1,3</code> - <code><em>1</em></code> arrangement</li>\n",
        "<li><code>.??..??...?##. 1,1,3</code> - <code><em>4</em></code> arrangements</li>\n",
        "<li><code>?#?#?#?#?#?#?#? 1,3,1,6</code> - <code><em>1</em></code> arrangement</li>\n",
        "<li><code>????.#...#... 4,1,1</code> - <code><em>1</em></code> arrangement</li>\n",
        "<li><code>????.######..#####. 1,6,5</code> - <code><em>4</em></code> arrangements</li>\n",
        "<li><code>?###???????? 3,2,1</code> - <code><em>10</em></code> arrangements</li>\n",
        "</ul>\n",
        "<p>Adding all of the possible arrangement counts together produces a total of <code><em>21</em></code> arrangements.</p>\n",
        "<p>For each row, count all of the different arrangements of operational and broken springs that meet the given criteria. <em>What is the sum of those counts?</em></p>\n",
        "</article>"
      ]
    },
    {
      "cell_type": "code",
      "execution_count": 1,
      "metadata": {
        "colab": {
          "base_uri": "https://localhost:8080/"
        },
        "id": "8bnd-ZZk0PAL",
        "outputId": "6c456c84-1da8-4e5c-9287-995e2bdbd100"
      },
      "outputs": [
        {
          "output_type": "stream",
          "name": "stdout",
          "text": [
            "Mounted at /content/drive\n"
          ]
        }
      ],
      "source": [
        "from google.colab import drive\n",
        "drive.mount(r\"/content/drive\")\n",
        "\n",
        "input_file = r\"/content/drive/MyDrive/Colab Notebooks/AoC2023/input/12.txt\"\n",
        "with open(input_file, \"r\") as file:\n",
        "    input = file.read()"
      ]
    },
    {
      "cell_type": "code",
      "source": [
        "from functools import cache"
      ],
      "metadata": {
        "id": "CDOT97w-11TY"
      },
      "execution_count": 2,
      "outputs": []
    },
    {
      "cell_type": "code",
      "source": [
        "def parse_input(input_str: str) -> list[tuple[str, list[int]]]:\n",
        "    \"\"\"\n",
        "    Parses the puzzle input into a list of tuples.\n",
        "\n",
        "    Args:\n",
        "    input_str (str): A string containing the puzzle input.\n",
        "\n",
        "    Returns:\n",
        "    list[tuple[str, list[int]]]: A list where each element is a tuple.\n",
        "                                  The first element of the tuple is a string of spring conditions.\n",
        "                                  The second element is a list of integers representing the size of contiguous groups of\n",
        "                                  damaged springs.\n",
        "    \"\"\"\n",
        "    # Splitting the input string into lines\n",
        "    lines = input_str.splitlines()\n",
        "\n",
        "    # Parsing each line\n",
        "    condition_records = []\n",
        "    for line in lines:\n",
        "        # Splitting each line into spring conditions and group sizes\n",
        "        conditions, group_sizes_str = line.split()\n",
        "\n",
        "        # Converting the group sizes into a list of integers\n",
        "        group_sizes = [int(size) for size in group_sizes_str.split(',')]\n",
        "\n",
        "        condition_records.append((conditions, group_sizes))\n",
        "\n",
        "    return condition_records"
      ],
      "metadata": {
        "id": "d2uI_WmD_8Wx"
      },
      "execution_count": 3,
      "outputs": []
    },
    {
      "cell_type": "code",
      "source": [
        "condition_records = parse_input(input)"
      ],
      "metadata": {
        "id": "pgYCP7yg0b6U"
      },
      "execution_count": 4,
      "outputs": []
    },
    {
      "cell_type": "code",
      "source": [
        "def count_arrangements(conditions: str, group_sizes: list[int]) -> int:\n",
        "    \"\"\"\n",
        "    Counts the number of possible arrangements of springs based on given conditions and group sizes.\n",
        "\n",
        "    Args:\n",
        "    conditions (str): A string representing the spring conditions, where each character can be '.', '#', or '?'.\n",
        "    group_sizes (list[int]): A list of integers representing the sizes of contiguous groups of damaged springs.\n",
        "\n",
        "    Returns:\n",
        "    int: The number of possible arrangements that satisfy the given conditions and group sizes.\n",
        "    \"\"\"\n",
        "\n",
        "    @cache\n",
        "    def helper(\n",
        "        current_conditions: str, remaining_sizes: tuple[int, ...], forming_group: bool\n",
        "    ) -> int:\n",
        "        \"\"\"\n",
        "        Recursive helper function with memoization to count arrangements.\n",
        "\n",
        "        Args:\n",
        "        current_conditions (str): The substring of remaining spring conditions to be processed.\n",
        "        remaining_sizes (tuple[int, ...]): The remaining group sizes that need to be formed.\n",
        "        forming_group (bool): Indicates if the current group of damaged springs is still being formed.\n",
        "\n",
        "        Returns:\n",
        "        int: Number of arrangements for the given state.\n",
        "        \"\"\"\n",
        "        # Base case: if no remaining sizes, return 1 if no damaged springs are left, else 0\n",
        "        if not remaining_sizes:\n",
        "            return 0 if \"#\" in current_conditions else 1\n",
        "\n",
        "        # Base case: if no conditions left, check if all group sizes have been satisfied\n",
        "        if not current_conditions:\n",
        "            return 0 if sum(remaining_sizes) else 1\n",
        "\n",
        "        # If the current group size is satisfied, move to the next group\n",
        "        if remaining_sizes[0] == 0:\n",
        "            return (\n",
        "                helper(current_conditions[1:], remaining_sizes[1:], False)\n",
        "                if current_conditions[0] in [\"?\", \".\"]\n",
        "                else 0\n",
        "            )\n",
        "\n",
        "        # If currently forming a group, continue forming it if the condition allows\n",
        "        if forming_group:\n",
        "            if current_conditions[0] in [\"?\", \"#\"]:\n",
        "                return helper(\n",
        "                    current_conditions[1:],\n",
        "                    (remaining_sizes[0] - 1,) + remaining_sizes[1:],\n",
        "                    True,\n",
        "                )\n",
        "            else:\n",
        "                return 0\n",
        "\n",
        "        # Handle the case where the current spring is known to be damaged\n",
        "        if current_conditions[0] == \"#\":\n",
        "            return helper(\n",
        "                current_conditions[1:],\n",
        "                (remaining_sizes[0] - 1,) + remaining_sizes[1:],\n",
        "                True,\n",
        "            )\n",
        "\n",
        "        # Handle the case where the current spring is known to be operational\n",
        "        if current_conditions[0] == \".\":\n",
        "            return helper(current_conditions[1:], remaining_sizes, False)\n",
        "\n",
        "        # Handle the case where the condition of the current spring is unknown\n",
        "        return helper(current_conditions[1:], remaining_sizes, False) + helper(\n",
        "            current_conditions[1:],\n",
        "            (remaining_sizes[0] - 1,) + remaining_sizes[1:],\n",
        "            True,\n",
        "        )\n",
        "\n",
        "    # Convert list of group sizes to tuple for compatibility with cache\n",
        "    group_sizes_tuple = tuple(group_sizes)\n",
        "\n",
        "    return helper(conditions, group_sizes_tuple, False)"
      ],
      "metadata": {
        "id": "suBQ1Zdm0gzO"
      },
      "execution_count": 5,
      "outputs": []
    },
    {
      "cell_type": "code",
      "source": [
        "sum(count_arrangements(*record) for record in condition_records)"
      ],
      "metadata": {
        "colab": {
          "base_uri": "https://localhost:8080/"
        },
        "id": "bOInOIEd2Re1",
        "outputId": "6370ca64-c9d2-4d6f-c995-8467f1f30fc0"
      },
      "execution_count": 6,
      "outputs": [
        {
          "output_type": "execute_result",
          "data": {
            "text/plain": [
              "7402"
            ]
          },
          "metadata": {},
          "execution_count": 6
        }
      ]
    },
    {
      "cell_type": "markdown",
      "source": [
        "<article class=\"day-desc\"><h2 id=\"part2\">--- Part Two ---</h2><p>As you look out at the field of springs, you feel like there are way more springs than the condition records list. When you examine the records, you discover that they were actually <em>folded up</em> this whole time!</p>\n",
        "<p>To <em>unfold the records</em>, on each row, replace the list of spring conditions with five copies of itself (separated by <code>?</code>) and replace the list of contiguous groups of damaged springs with five copies of itself (separated by <code>,</code>).</p>\n",
        "<p>So, this row:</p>\n",
        "<pre><code>.# 1</code></pre>\n",
        "<p>Would become:</p>\n",
        "<pre><code>.#?.#?.#?.#?.# 1,1,1,1,1</code></pre>\n",
        "<p>The first line of the above example would become:</p>\n",
        "<pre><code>???.###????.###????.###????.###????.### 1,1,3,1,1,3,1,1,3,1,1,3,1,1,3</code></pre>\n",
        "<p>In the above example, after unfolding, the number of possible arrangements for some rows is now much larger:</p>\n",
        "<ul>\n",
        "<li><code>???.### 1,1,3</code> - <code><em>1</em></code> arrangement</li>\n",
        "<li><code>.??..??...?##. 1,1,3</code> - <code><em>16384</em></code> arrangements</li>\n",
        "<li><code>?#?#?#?#?#?#?#? 1,3,1,6</code> - <code><em>1</em></code> arrangement</li>\n",
        "<li><code>????.#...#... 4,1,1</code> - <code><em>16</em></code> arrangements</li>\n",
        "<li><code>????.######..#####. 1,6,5</code> - <code><em>2500</em></code> arrangements</li>\n",
        "<li><code>?###???????? 3,2,1</code> - <code><em>506250</em></code> arrangements</li>\n",
        "</ul>\n",
        "<p>After unfolding, adding all of the possible arrangement counts together produces <code><em>525152</em></code>.</p>\n",
        "<p>Unfold your condition records; <em>what is the new sum of possible arrangement counts?</em></p>\n",
        "</article>"
      ],
      "metadata": {
        "id": "_o2QRHHZeypb"
      }
    },
    {
      "cell_type": "code",
      "source": [
        "def unfold(conditions: str, group_sizes: list[int]) -> tuple[str, list[int]]:\n",
        "    \"\"\"\n",
        "    Unfolds the condition records by replicating the spring conditions and group sizes.\n",
        "\n",
        "    Each row of spring conditions is replaced with five copies of itself, separated by '?'.\n",
        "    Similarly, the list of contiguous groups of damaged springs is replaced with five copies of itself.\n",
        "\n",
        "    Args:\n",
        "    conditions (str): A string representing the original spring conditions for a row.\n",
        "    group_sizes (list[int]): A list of integers representing the original sizes of contiguous groups of damaged springs\n",
        "    for a row.\n",
        "\n",
        "    Returns:\n",
        "    tuple[str, list[int]]: A tuple containing the unfolded spring conditions as a string and the unfolded group sizes as\n",
        "    a list of integers.\n",
        "    \"\"\"\n",
        "    # Replicate the spring conditions five times, separated by '?'\n",
        "    unfolded_conditions = \"?\".join([conditions] * 5)\n",
        "\n",
        "    # Replicate the group sizes list five times\n",
        "    unfolded_group_sizes = group_sizes * 5\n",
        "\n",
        "    return unfolded_conditions, unfolded_group_sizes\n"
      ],
      "metadata": {
        "id": "MiSBcy9S2hZF"
      },
      "execution_count": 7,
      "outputs": []
    },
    {
      "cell_type": "code",
      "source": [
        "sum(count_arrangements(*unfold(*record)) for record in condition_records)"
      ],
      "metadata": {
        "id": "5ZDwzxoh7i0y",
        "colab": {
          "base_uri": "https://localhost:8080/"
        },
        "outputId": "53a842a3-dd97-4e97-c7b6-f55944b50fcf"
      },
      "execution_count": 8,
      "outputs": [
        {
          "output_type": "execute_result",
          "data": {
            "text/plain": [
              "3384337640277"
            ]
          },
          "metadata": {},
          "execution_count": 8
        }
      ]
    }
  ],
  "metadata": {
    "colab": {
      "provenance": [],
      "authorship_tag": "ABX9TyMp1ZFZKhktuFMYpnRUPKEn",
      "include_colab_link": true
    },
    "kernelspec": {
      "display_name": "Python 3",
      "name": "python3"
    },
    "language_info": {
      "name": "python"
    }
  },
  "nbformat": 4,
  "nbformat_minor": 0
}