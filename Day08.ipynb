{
  "cells": [
    {
      "cell_type": "markdown",
      "metadata": {
        "id": "view-in-github",
        "colab_type": "text"
      },
      "source": [
        "<a href=\"https://colab.research.google.com/github/oddrationale/AdventOfCode2023Python/blob/main/Day08.ipynb\" target=\"_parent\"><img src=\"https://colab.research.google.com/assets/colab-badge.svg\" alt=\"Open In Colab\"/></a>"
      ]
    },
    {
      "cell_type": "markdown",
      "metadata": {
        "id": "oFAzFV8k0MTr"
      },
      "source": [
        "<article class=\"day-desc\"><h2>--- Day 8: Haunted Wasteland ---</h2><p>You're still riding a camel across Desert Island when you spot a sandstorm quickly approaching. When you turn to warn the Elf, she disappears before your eyes! To be fair, she had just finished warning you about <em>ghosts</em> a few minutes ago.</p>\n",
        "<p>One of the camel's pouches is labeled \"maps\" - sure enough, it's full of documents (your puzzle input) about how to navigate the desert. At least, you're pretty sure that's what they are; one of the documents contains a list of left/right instructions, and the rest of the documents seem to describe some kind of <em>network</em> of labeled nodes.</p>\n",
        "<p>It seems like you're meant to use the <em>left/right</em> instructions to <em>navigate the network</em>. Perhaps if you have the camel follow the same instructions, you can escape the haunted wasteland!</p>\n",
        "<p>After examining the maps for a bit, two nodes stick out: <code>AAA</code> and <code>ZZZ</code>. You feel like <code>AAA</code> is where you are now, and you have to follow the left/right instructions until you reach <code>ZZZ</code>.</p>\n",
        "<p>This format defines each <em>node</em> of the network individually. For example:</p>\n",
        "<pre><code>RL\n",
        "\n",
        "AAA = (BBB, CCC)\n",
        "BBB = (DDD, EEE)\n",
        "CCC = (ZZZ, GGG)\n",
        "DDD = (DDD, DDD)\n",
        "EEE = (EEE, EEE)\n",
        "GGG = (GGG, GGG)\n",
        "ZZZ = (ZZZ, ZZZ)\n",
        "</code></pre>\n",
        "<p>Starting with <code>AAA</code>, you need to <em>look up the next element</em> based on the next left/right instruction in your input. In this example, start with <code>AAA</code> and go <em>right</em> (<code>R</code>) by choosing the right element of <code>AAA</code>, <code><em>CCC</em></code>. Then, <code>L</code> means to choose the <em>left</em> element of <code>CCC</code>, <code><em>ZZZ</em></code>. By following the left/right instructions, you reach <code>ZZZ</code> in <code><em>2</em></code> steps.</p>\n",
        "<p>Of course, you might not find <code>ZZZ</code> right away. If you run out of left/right instructions, repeat the whole sequence of instructions as necessary: <code>RL</code> really means <code>RLRLRLRLRLRLRLRL...</code> and so on. For example, here is a situation that takes <code><em>6</em></code> steps to reach <code>ZZZ</code>:</p>\n",
        "<pre><code>LLR\n",
        "\n",
        "AAA = (BBB, BBB)\n",
        "BBB = (AAA, ZZZ)\n",
        "ZZZ = (ZZZ, ZZZ)\n",
        "</code></pre>\n",
        "<p>Starting at <code>AAA</code>, follow the left/right instructions. <em>How many steps are required to reach <code>ZZZ</code>?</em></p>\n",
        "</article>"
      ]
    },
    {
      "cell_type": "code",
      "execution_count": 1,
      "metadata": {
        "colab": {
          "base_uri": "https://localhost:8080/"
        },
        "id": "8bnd-ZZk0PAL",
        "outputId": "46707404-d159-4e01-f0e1-389514da65f3"
      },
      "outputs": [
        {
          "output_type": "stream",
          "name": "stdout",
          "text": [
            "Drive already mounted at /content/drive; to attempt to forcibly remount, call drive.mount(\"/content/drive\", force_remount=True).\n"
          ]
        }
      ],
      "source": [
        "from google.colab import drive\n",
        "drive.mount(r\"/content/drive\")\n",
        "\n",
        "input_file = r\"/content/drive/MyDrive/Colab Notebooks/AoC2023/input/08.txt\"\n",
        "with open(input_file, \"r\") as file:\n",
        "    input = file.read()"
      ]
    },
    {
      "cell_type": "code",
      "source": [
        "def parse_input(input: str) -> tuple[str, dict[str, tuple[str, str]]]:\n",
        "    \"\"\"\n",
        "    Parse the input string into left/right instructions and a network of nodes.\n",
        "\n",
        "    Args:\n",
        "    input (str): The entire input string containing the instructions\n",
        "                        and node definitions.\n",
        "\n",
        "    Returns:\n",
        "    tuple[str, dict[str, tuple[str, str]]]: A tuple containing the instruction\n",
        "                                            sequence as a string and a dictionary\n",
        "                                            representing the network of nodes.\n",
        "                                            Each node (key) maps to a tuple of\n",
        "                                            two strings (left and right nodes).\n",
        "    \"\"\"\n",
        "    # Split the input string into lines\n",
        "    lines = input.strip().split('\\n')\n",
        "\n",
        "    # The first line contains the left/right instructions\n",
        "    instructions = lines[0].strip()\n",
        "\n",
        "    # Initialize an empty dictionary for the nodes\n",
        "    nodes = {}\n",
        "\n",
        "    # Iterate over the remaining lines to parse node definitions\n",
        "    for line in lines[1:]:\n",
        "        line = line.strip()\n",
        "        if line:  # Ignore empty lines\n",
        "            # Split the line at '=' to separate the node from its connections\n",
        "            node, connections = line.split('=')\n",
        "            # Further split the connections into left and right nodes\n",
        "            left, right = connections.strip().strip('()').split(',')\n",
        "            # Trim whitespace and add the node and its connections to the dictionary\n",
        "            nodes[node.strip()] = (left.strip(), right.strip())\n",
        "\n",
        "    return instructions, nodes"
      ],
      "metadata": {
        "id": "HNojCpoamNYx"
      },
      "execution_count": 2,
      "outputs": []
    },
    {
      "cell_type": "code",
      "source": [
        "def navigate_network(\n",
        "    instructions: str,\n",
        "    nodes: dict[str, tuple[str, str]],\n",
        "    start_node: str = 'AAA',\n",
        "    end_node: str = 'ZZZ',\n",
        ") -> int:\n",
        "    \"\"\"\n",
        "    Navigate through the network of nodes based on the left/right instructions.\n",
        "\n",
        "    Args:\n",
        "    instructions (str): A string of left/right instructions.\n",
        "    nodes (dict[str, tuple[str, str]]): A dictionary representing the network of nodes,\n",
        "                                        where each node is mapped to a tuple of\n",
        "                                        left and right nodes.\n",
        "    start_node (str): The node to start navigation from. Defaults to 'AAA'.\n",
        "    end_node (str): The destination node. Defaults to 'ZZZ'.\n",
        "\n",
        "    Returns:\n",
        "    int: The number of steps taken to reach the end node.\n",
        "    \"\"\"\n",
        "    current_node = start_node\n",
        "    steps = 0\n",
        "    instruction_length = len(instructions)\n",
        "\n",
        "    # Loop until the end node is reached\n",
        "    while current_node != end_node:\n",
        "        # Determine the direction of the current step\n",
        "        direction = instructions[steps % instruction_length]\n",
        "\n",
        "        # Determine the next node based on the direction\n",
        "        if direction == 'L':\n",
        "            current_node = nodes[current_node][0]  # Left node\n",
        "        elif direction == 'R':\n",
        "            current_node = nodes[current_node][1]  # Right node\n",
        "        else:\n",
        "            raise ValueError(\"Invalid direction in instructions; expected 'L' or 'R'.\")\n",
        "\n",
        "        # Increment the step counter\n",
        "        steps += 1\n",
        "\n",
        "    return steps"
      ],
      "metadata": {
        "id": "gk2_MtFjGSB3"
      },
      "execution_count": 3,
      "outputs": []
    },
    {
      "cell_type": "code",
      "source": [
        "instructions, nodes = parse_input(input)\n",
        "navigate_network(instructions, nodes)"
      ],
      "metadata": {
        "colab": {
          "base_uri": "https://localhost:8080/"
        },
        "id": "3qNeLsFPG5f_",
        "outputId": "ae9a9a09-4214-466e-b3d0-2ce39625d597"
      },
      "execution_count": 4,
      "outputs": [
        {
          "output_type": "execute_result",
          "data": {
            "text/plain": [
              "21251"
            ]
          },
          "metadata": {},
          "execution_count": 4
        }
      ]
    },
    {
      "cell_type": "markdown",
      "source": [
        "<article class=\"day-desc\"><h2 id=\"part2\">--- Part Two ---</h2><p>The <span title=\"Duhduhduhduhduh! Dah, duhduhduhduhduh!\">sandstorm</span> is upon you and you aren't any closer to escaping the wasteland. You had the camel follow the instructions, but you've barely left your starting position. It's going to take <em>significantly more steps</em> to escape!</p>\n",
        "<p>What if the map isn't for people - what if the map is for <em>ghosts</em>? Are ghosts even bound by the laws of spacetime? Only one way to find out.</p>\n",
        "<p>After examining the maps a bit longer, your attention is drawn to a curious fact: the number of nodes with names ending in <code>A</code> is equal to the number ending in <code>Z</code>! If you were a ghost, you'd probably just <em>start at every node that ends with <code>A</code></em> and follow all of the paths at the same time until they all simultaneously end up at nodes that end with <code>Z</code>.</p>\n",
        "<p>For example:</p>\n",
        "<pre><code>LR\n",
        "\n",
        "11A = (11B, XXX)\n",
        "11B = (XXX, 11Z)\n",
        "11Z = (11B, XXX)\n",
        "22A = (22B, XXX)\n",
        "22B = (22C, 22C)\n",
        "22C = (22Z, 22Z)\n",
        "22Z = (22B, 22B)\n",
        "XXX = (XXX, XXX)\n",
        "</code></pre>\n",
        "<p>Here, there are two starting nodes, <code>11A</code> and <code>22A</code> (because they both end with <code>A</code>). As you follow each left/right instruction, use that instruction to <em>simultaneously</em> navigate away from both nodes you're currently on. Repeat this process until <em>all</em> of the nodes you're currently on end with <code>Z</code>. (If only some of the nodes you're on end with <code>Z</code>, they act like any other node and you continue as normal.) In this example, you would proceed as follows:</p>\n",
        "<ul>\n",
        "<li>Step 0: You are at <code>11A</code> and <code>22A</code>.</li>\n",
        "<li>Step 1: You choose all of the <em>left</em> paths, leading you to <code>11B</code> and <code>22B</code>.</li>\n",
        "<li>Step 2: You choose all of the <em>right</em> paths, leading you to <code><em>11Z</em></code> and <code>22C</code>.</li>\n",
        "<li>Step 3: You choose all of the <em>left</em> paths, leading you to <code>11B</code> and <code><em>22Z</em></code>.</li>\n",
        "<li>Step 4: You choose all of the <em>right</em> paths, leading you to <code><em>11Z</em></code> and <code>22B</code>.</li>\n",
        "<li>Step 5: You choose all of the <em>left</em> paths, leading you to <code>11B</code> and <code>22C</code>.</li>\n",
        "<li>Step 6: You choose all of the <em>right</em> paths, leading you to <code><em>11Z</em></code> and <code><em>22Z</em></code>.</li>\n",
        "</ul>\n",
        "<p>So, in this example, you end up entirely on nodes that end in <code>Z</code> after <code><em>6</em></code> steps.</p>\n",
        "<p>Simultaneously start on every node that ends with <code>A</code>. <em>How many steps does it take before you're only on nodes that end with <code>Z</code>?</em></p>\n",
        "</article>"
      ],
      "metadata": {
        "id": "9i49rDU-IJ_h"
      }
    },
    {
      "cell_type": "code",
      "source": [
        "from math import lcm\n",
        "\n",
        "def navigate_as_ghosts_lcm(instructions: str, nodes: dict[str, tuple[str, str]]) -> int:\n",
        "    \"\"\"\n",
        "    Navigate through the network of nodes as ghosts using LCM for optimization.\n",
        "\n",
        "    Args:\n",
        "    instructions (str): A string of left/right instructions.\n",
        "    nodes (dict[str, tuple[str, str]]): A dictionary representing the network of nodes.\n",
        "\n",
        "    Returns:\n",
        "    int: The LCM of steps taken for all paths starting from nodes ending with 'A'.\n",
        "    \"\"\"\n",
        "    def steps_to_z(start_node: str) -> int:\n",
        "        \"\"\"\n",
        "        Calculate the number of steps to reach a node ending with 'Z' from a given start node.\n",
        "\n",
        "        Args:\n",
        "        start_node (str): The starting node.\n",
        "\n",
        "        Returns:\n",
        "        int: Number of steps to reach a 'Z' ending node.\n",
        "        \"\"\"\n",
        "        current_node = start_node\n",
        "        steps = 0\n",
        "\n",
        "        while not current_node.endswith('Z'):\n",
        "            direction = instructions[steps % len(instructions)]\n",
        "            current_node = nodes[current_node][0 if direction == 'L' else 1]\n",
        "            steps += 1\n",
        "\n",
        "        return steps\n",
        "\n",
        "    # Calculate steps for each 'A' ending node\n",
        "    path_lengths = [steps_to_z(node) for node in nodes if node.endswith('A')]\n",
        "\n",
        "    # Find the LCM of all path lengths\n",
        "    return lcm(*path_lengths)"
      ],
      "metadata": {
        "id": "98kI9GW_HE8O"
      },
      "execution_count": 5,
      "outputs": []
    },
    {
      "cell_type": "code",
      "source": [
        "navigate_as_ghosts_lcm(instructions, nodes)"
      ],
      "metadata": {
        "colab": {
          "base_uri": "https://localhost:8080/"
        },
        "id": "5vTkvNB-JxQq",
        "outputId": "30f27e57-4e66-4984-b5bc-fe07d93c4e5b"
      },
      "execution_count": 6,
      "outputs": [
        {
          "output_type": "execute_result",
          "data": {
            "text/plain": [
              "11678319315857"
            ]
          },
          "metadata": {},
          "execution_count": 6
        }
      ]
    }
  ],
  "metadata": {
    "colab": {
      "provenance": [],
      "authorship_tag": "ABX9TyMoIIEmE8gwtTPx18czJAFm",
      "include_colab_link": true
    },
    "kernelspec": {
      "display_name": "Python 3",
      "name": "python3"
    },
    "language_info": {
      "name": "python"
    }
  },
  "nbformat": 4,
  "nbformat_minor": 0
}