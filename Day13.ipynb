{
  "cells": [
    {
      "cell_type": "markdown",
      "metadata": {
        "id": "view-in-github",
        "colab_type": "text"
      },
      "source": [
        "<a href=\"https://colab.research.google.com/github/oddrationale/AdventOfCode2023Python/blob/main/Day13.ipynb\" target=\"_parent\"><img src=\"https://colab.research.google.com/assets/colab-badge.svg\" alt=\"Open In Colab\"/></a>"
      ]
    },
    {
      "cell_type": "markdown",
      "metadata": {
        "id": "oFAzFV8k0MTr"
      },
      "source": [
        "<article class=\"day-desc\"><h2>--- Day 13: Point of Incidence ---</h2><p>With your help, the hot springs team locates an appropriate spring which launches you neatly and precisely up to the edge of <em>Lava Island</em>.</p>\n",
        "<p>There's just one problem: you don't see any <em>lava</em>.</p>\n",
        "<p>You <em>do</em> see a lot of ash and igneous rock; there are even what look like gray mountains scattered around. After a while, you make your way to a nearby cluster of mountains only to discover that the valley between them is completely full of large <em>mirrors</em>.  Most of the mirrors seem to be aligned in a consistent way; perhaps you should head in that direction?</p>\n",
        "<p>As you move through the valley of mirrors, you find that several of them have fallen from the large metal frames keeping them in place. The mirrors are extremely flat and shiny, and many of the fallen mirrors have lodged into the ash at strange angles. Because the terrain is all one color, it's hard to tell where it's safe to walk or where you're about to run into a mirror.</p>\n",
        "<p>You note down the patterns of ash (<code>.</code>) and rocks (<code>#</code>) that you see as you walk (your puzzle input); perhaps by carefully analyzing these patterns, you can figure out where the mirrors are!</p>\n",
        "<p>For example:</p>\n",
        "<pre><code>#.##..##.\n",
        "..#.##.#.\n",
        "##......#\n",
        "##......#\n",
        "..#.##.#.\n",
        "..##..##.\n",
        "#.#.##.#.\n",
        "\n",
        "#...##..#\n",
        "#....#..#\n",
        "..##..###\n",
        "#####.##.\n",
        "#####.##.\n",
        "..##..###\n",
        "#....#..#\n",
        "</code></pre>\n",
        "<p>To find the reflection in each pattern, you need to find a perfect reflection across either a horizontal line between two rows or across a vertical line between two columns.</p>\n",
        "<p>In the first pattern, the reflection is across a vertical line between two columns; arrows on each of the two columns point at the line between the columns:</p>\n",
        "<pre><code>123456789\n",
        "    &gt;&lt;   \n",
        "#.##..##.\n",
        "..#.##.#.\n",
        "##......#\n",
        "##......#\n",
        "..#.##.#.\n",
        "..##..##.\n",
        "#.#.##.#.\n",
        "    &gt;&lt;   \n",
        "123456789\n",
        "</code></pre>\n",
        "<p>In this pattern, the line of reflection is the vertical line between columns 5 and 6. Because the vertical line is not perfectly in the middle of the pattern, part of the pattern (column 1) has nowhere to reflect onto and can be ignored; every other column has a reflected column within the pattern and must match exactly: column 2 matches column 9, column 3 matches 8, 4 matches 7, and 5 matches 6.</p>\n",
        "<p>The second pattern reflects across a horizontal line instead:</p>\n",
        "<pre><code>1 #...##..# 1\n",
        "2 #....#..# 2\n",
        "3 ..##..### 3\n",
        "4v#####.##.v4\n",
        "5^#####.##.^5\n",
        "6 ..##..### 6\n",
        "7 #....#..# 7\n",
        "</code></pre>\n",
        "<p>This pattern reflects across the horizontal line between rows 4 and 5. Row 1 would reflect with a hypothetical row 8, but since that's not in the pattern, row 1 doesn't need to match anything. The remaining rows match: row 2 matches row 7, row 3 matches row 6, and row 4 matches row 5.</p>\n",
        "<p>To <em>summarize</em> your pattern notes, add up <em>the number of columns</em> to the left of each vertical line of reflection; to that, also add <em>100 multiplied by the number of rows</em> above each horizontal line of reflection. In the above example, the first pattern's vertical line has <code>5</code> columns to its left and the second pattern's horizontal line has <code>4</code> rows above it, a total of <code><em>405</em></code>.</p>\n",
        "<p>Find the line of reflection in each of the patterns in your notes. <em>What number do you get after summarizing all of your notes?</em></p>\n",
        "</article>"
      ]
    },
    {
      "cell_type": "code",
      "execution_count": 1,
      "metadata": {
        "colab": {
          "base_uri": "https://localhost:8080/"
        },
        "id": "8bnd-ZZk0PAL",
        "outputId": "53b2465a-e9a7-4d8a-dabf-d5f5f21ff8ec"
      },
      "outputs": [
        {
          "output_type": "stream",
          "name": "stdout",
          "text": [
            "Drive already mounted at /content/drive; to attempt to forcibly remount, call drive.mount(\"/content/drive\", force_remount=True).\n"
          ]
        }
      ],
      "source": [
        "from google.colab import drive\n",
        "drive.mount(r\"/content/drive\")\n",
        "\n",
        "input_file = r\"/content/drive/MyDrive/Colab Notebooks/AoC2023/input/13.txt\"\n",
        "with open(input_file, \"r\") as file:\n",
        "    input = file.read()"
      ]
    },
    {
      "cell_type": "code",
      "source": [
        "def parse_input(input_str: str) -> list[str]:\n",
        "    \"\"\"\n",
        "    Splits the input string into individual patterns.\n",
        "\n",
        "    Args:\n",
        "    input_str (str): A string containing multiple patterns separated by double newlines.\n",
        "\n",
        "    Returns:\n",
        "    list[str]: A list where each element is a string representing a single pattern.\n",
        "    \"\"\"\n",
        "    return input_str.split(\"\\n\\n\")"
      ],
      "metadata": {
        "id": "3jgzj2rKWYYI"
      },
      "execution_count": 2,
      "outputs": []
    },
    {
      "cell_type": "code",
      "source": [
        "def transpose(pattern: str) -> str:\n",
        "    \"\"\"\n",
        "    Transposes the given pattern.\n",
        "\n",
        "    This function treats each line of the input pattern as a row in a matrix\n",
        "    and transposes the matrix, effectively converting rows to columns and vice versa.\n",
        "\n",
        "    Args:\n",
        "    pattern (str): A string representing the pattern to be transposed.\n",
        "\n",
        "    Returns:\n",
        "    str: A transposed version of the input pattern.\n",
        "    \"\"\"\n",
        "    pattern_list = pattern.splitlines()\n",
        "    transposed_list = map(''.join, zip(*pattern_list))\n",
        "    return \"\\n\".join(transposed_list)"
      ],
      "metadata": {
        "id": "G30OpjFMWtQl"
      },
      "execution_count": 3,
      "outputs": []
    },
    {
      "cell_type": "code",
      "source": [
        "def find_reflection(pattern: str) -> int:\n",
        "    \"\"\"\n",
        "    Finds the line of reflection in the pattern.\n",
        "\n",
        "    This function checks for a line of reflection by comparing each row with its\n",
        "    corresponding row when the pattern is split at a certain index.\n",
        "\n",
        "    Args:\n",
        "    pattern (str): A string representing the pattern.\n",
        "\n",
        "    Returns:\n",
        "    int: The index of the line of reflection, or 0 if no reflection line is found.\n",
        "    \"\"\"\n",
        "    pattern_list = pattern.splitlines()\n",
        "    for index in range(len(pattern_list)):\n",
        "        left_part = pattern_list[:index + 1]\n",
        "        right_part = pattern_list[index + 1:]\n",
        "        pairs = list(zip(reversed(left_part), right_part))\n",
        "        if pairs and all(left == right for left, right in pairs):\n",
        "            return index + 1\n",
        "    return 0"
      ],
      "metadata": {
        "id": "4u9zkfeXY2Lr"
      },
      "execution_count": 4,
      "outputs": []
    },
    {
      "cell_type": "code",
      "source": [
        "def summarize(patterns: list[str]) -> int:\n",
        "    \"\"\"\n",
        "    Summarizes the patterns by finding reflection lines.\n",
        "\n",
        "    This function calculates the summary number by finding vertical and horizontal\n",
        "    reflection lines in the given patterns.\n",
        "\n",
        "    Args:\n",
        "    patterns (list[str]): A list of string patterns.\n",
        "\n",
        "    Returns:\n",
        "    int: The summarized number based on reflection lines.\n",
        "    \"\"\"\n",
        "    columns = sum(find_reflection(transpose(pattern)) for pattern in patterns)\n",
        "    rows = sum(find_reflection(pattern) for pattern in patterns)\n",
        "    return columns + (100 * rows)"
      ],
      "metadata": {
        "id": "MNobJ-JoqzeL"
      },
      "execution_count": 5,
      "outputs": []
    },
    {
      "cell_type": "code",
      "source": [
        "patterns = parse_input(input)\n",
        "summarize(patterns)"
      ],
      "metadata": {
        "colab": {
          "base_uri": "https://localhost:8080/"
        },
        "id": "4iD3ZKdgxshe",
        "outputId": "e2b460dc-dbe2-4dbc-f516-c0d93adb52b4"
      },
      "execution_count": 6,
      "outputs": [
        {
          "output_type": "execute_result",
          "data": {
            "text/plain": [
              "36041"
            ]
          },
          "metadata": {},
          "execution_count": 6
        }
      ]
    },
    {
      "cell_type": "markdown",
      "source": [
        "<article class=\"day-desc\"><h2 id=\"part2\">--- Part Two ---</h2><p>You resume walking through the valley of mirrors and - <em>SMACK!</em> - run directly into one. Hopefully <span title=\"Sorry, Nobody saw that.\">nobody</span> was watching, because that must have been pretty embarrassing.</p>\n",
        "<p>Upon closer inspection, you discover that every mirror has exactly one <em>smudge</em>: exactly one <code>.</code> or <code>#</code> should be the opposite type.</p>\n",
        "<p>In each pattern, you'll need to locate and fix the smudge that causes a <em>different reflection line</em> to be valid. (The old reflection line won't necessarily continue being valid after the smudge is fixed.)</p>\n",
        "<p>Here's the above example again:</p>\n",
        "<pre><code>#.##..##.\n",
        "..#.##.#.\n",
        "##......#\n",
        "##......#\n",
        "..#.##.#.\n",
        "..##..##.\n",
        "#.#.##.#.\n",
        "\n",
        "#...##..#\n",
        "#....#..#\n",
        "..##..###\n",
        "#####.##.\n",
        "#####.##.\n",
        "..##..###\n",
        "#....#..#\n",
        "</code></pre>\n",
        "<p>The first pattern's smudge is in the top-left corner. If the top-left <code>#</code> were instead <code>.</code>, it would have a different, horizontal line of reflection:</p>\n",
        "<pre><code>1 ..##..##. 1\n",
        "2 ..#.##.#. 2\n",
        "3v##......#v3\n",
        "4^##......#^4\n",
        "5 ..#.##.#. 5\n",
        "6 ..##..##. 6\n",
        "7 #.#.##.#. 7\n",
        "</code></pre>\n",
        "<p>With the smudge in the top-left corner repaired, a new horizontal line of reflection between rows 3 and 4 now exists. Row 7 has no corresponding reflected row and can be ignored, but every other row matches exactly: row 1 matches row 6, row 2 matches row 5, and row 3 matches row 4.</p>\n",
        "<p>In the second pattern, the smudge can be fixed by changing the fifth symbol on row 2 from <code>.</code> to <code>#</code>:</p>\n",
        "<pre><code>1v#...##..#v1\n",
        "2^#...##..#^2\n",
        "3 ..##..### 3\n",
        "4 #####.##. 4\n",
        "5 #####.##. 5\n",
        "6 ..##..### 6\n",
        "7 #....#..# 7\n",
        "</code></pre>\n",
        "<p>Now, the pattern has a different horizontal line of reflection between rows 1 and 2.</p>\n",
        "<p>Summarize your notes as before, but instead use the new different reflection lines. In this example, the first pattern's new horizontal line has 3 rows above it and the second pattern's new horizontal line has 1 row above it, summarizing to the value <code><em>400</em></code>.</p>\n",
        "<p>In each pattern, fix the smudge and find the different line of reflection. <em>What number do you get after summarizing the new reflection line in each pattern in your notes?</em></p>\n",
        "</article>"
      ],
      "metadata": {
        "id": "d05nTAFTyGuV"
      }
    },
    {
      "cell_type": "code",
      "source": [
        "def diff(left: str, right: str) -> int:\n",
        "    \"\"\"\n",
        "    Counts the number of differences between two strings.\n",
        "\n",
        "    Args:\n",
        "    left (str): The first string.\n",
        "    right (str): The second string.\n",
        "\n",
        "    Returns:\n",
        "    int: The count of differing characters between the two strings.\n",
        "    \"\"\"\n",
        "    return sum(1 for l, r in zip(left, right) if l != r)"
      ],
      "metadata": {
        "id": "9DkXSYsK2xIJ"
      },
      "execution_count": 7,
      "outputs": []
    },
    {
      "cell_type": "code",
      "source": [
        "def find_reflection_with_smudge(pattern: str) -> int:\n",
        "    \"\"\"\n",
        "    Finds the line of reflection in a pattern accounting for a single smudge.\n",
        "\n",
        "    This function checks for a line of reflection by comparing each row with its\n",
        "    corresponding row when the pattern is split at a certain index, allowing for\n",
        "    exactly one difference (smudge).\n",
        "\n",
        "    Args:\n",
        "    pattern (str): A string representing the pattern.\n",
        "\n",
        "    Returns:\n",
        "    int: The index of the line of reflection, or 0 if no suitable line is found.\n",
        "    \"\"\"\n",
        "    pattern_list = pattern.splitlines()\n",
        "    for index in range(len(pattern_list)):\n",
        "        left_part = pattern_list[:index + 1]\n",
        "        right_part = pattern_list[index + 1:]\n",
        "        pairs = zip(reversed(left_part), right_part)\n",
        "        if pairs and sum(diff(left, right) for left, right in pairs) == 1:\n",
        "            return index + 1\n",
        "    return 0"
      ],
      "metadata": {
        "id": "ssRWyCuL3hBX"
      },
      "execution_count": 8,
      "outputs": []
    },
    {
      "cell_type": "code",
      "source": [
        "def summarize_with_smudge(patterns: list[str]) -> int:\n",
        "    \"\"\"\n",
        "    Summarizes the patterns by finding reflection lines with a single smudge.\n",
        "\n",
        "    This function calculates the summary number by finding vertical and horizontal\n",
        "    reflection lines in the given patterns, considering one smudge in each pattern.\n",
        "\n",
        "    Args:\n",
        "    patterns (list[str]): A list of string patterns.\n",
        "\n",
        "    Returns:\n",
        "    int: The summarized number based on reflection lines with smudges.\n",
        "    \"\"\"\n",
        "    columns = sum(find_reflection_with_smudge(transpose(pattern)) for pattern in patterns)\n",
        "    rows = sum(find_reflection_with_smudge(pattern) for pattern in patterns)\n",
        "    return columns + (100 * rows)"
      ],
      "metadata": {
        "id": "vPoTQACR3i9r"
      },
      "execution_count": 9,
      "outputs": []
    },
    {
      "cell_type": "code",
      "source": [
        "summarize_with_smudge(patterns)"
      ],
      "metadata": {
        "colab": {
          "base_uri": "https://localhost:8080/"
        },
        "id": "aWTLkCiy4jUD",
        "outputId": "ae2a4805-8aaf-413b-8d50-5f35b5d1e994"
      },
      "execution_count": 10,
      "outputs": [
        {
          "output_type": "execute_result",
          "data": {
            "text/plain": [
              "35915"
            ]
          },
          "metadata": {},
          "execution_count": 10
        }
      ]
    }
  ],
  "metadata": {
    "colab": {
      "provenance": [],
      "authorship_tag": "ABX9TyPoLqyBH8cgIZHckKX8H7L+",
      "include_colab_link": true
    },
    "kernelspec": {
      "display_name": "Python 3",
      "name": "python3"
    },
    "language_info": {
      "name": "python"
    }
  },
  "nbformat": 4,
  "nbformat_minor": 0
}