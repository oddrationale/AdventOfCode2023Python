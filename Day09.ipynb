{
  "cells": [
    {
      "cell_type": "markdown",
      "metadata": {
        "id": "view-in-github",
        "colab_type": "text"
      },
      "source": [
        "<a href=\"https://colab.research.google.com/github/oddrationale/AdventOfCode2023Python/blob/main/Day09.ipynb\" target=\"_parent\"><img src=\"https://colab.research.google.com/assets/colab-badge.svg\" alt=\"Open In Colab\"/></a>"
      ]
    },
    {
      "cell_type": "markdown",
      "metadata": {
        "id": "oFAzFV8k0MTr"
      },
      "source": [
        "<article class=\"day-desc\"><h2>--- Day 9: Mirage Maintenance ---</h2><p>You ride the camel through the sandstorm and stop where the ghost's maps told you to stop. <span title=\"The sound of a sandstorm slowly settling.\">The sandstorm subsequently subsides, somehow seeing you standing at an <em>oasis</em>!</span></p>\n",
        "<p>The camel goes to get some water and you stretch your neck. As you look up, you discover what must be yet another giant floating island, this one made of metal! That must be where the <em>parts to fix the sand machines</em> come from.</p>\n",
        "<p>There's even a <a href=\"https://en.wikipedia.org/wiki/Hang_gliding\" target=\"_blank\">hang glider</a> partially buried in the sand here; once the sun rises and heats up the sand, you might be able to use the glider and the hot air to get all the way up to the metal island!</p>\n",
        "<p>While you wait for the sun to rise, you admire the oasis hidden here in the middle of Desert Island. It must have a delicate ecosystem; you might as well take some ecological readings while you wait. Maybe you can report any environmental instabilities you find to someone so the oasis can be around for the next sandstorm-worn traveler.</p>\n",
        "<p>You pull out your handy <em>Oasis And Sand Instability Sensor</em> and analyze your surroundings. The OASIS produces a report of many values and how they are changing over time (your puzzle input). Each line in the report contains the <em>history</em> of a single value. For example:</p>\n",
        "<pre><code>0 3 6 9 12 15\n",
        "1 3 6 10 15 21\n",
        "10 13 16 21 30 45\n",
        "</code></pre>\n",
        "<p>To best protect the oasis, your environmental report should include a <em>prediction of the next value</em> in each history. To do this, start by making a new sequence from the <em>difference at each step</em> of your history. If that sequence is <em>not</em> all zeroes, repeat this process, using the sequence you just generated as the input sequence. Once all of the values in your latest sequence are zeroes, you can extrapolate what the next value of the original history should be.</p>\n",
        "<p>In the above dataset, the first history is <code>0 3 6 9 12 15</code>. Because the values increase by <code>3</code> each step, the first sequence of differences that you generate will be <code>3 3 3 3 3</code>. Note that this sequence has one fewer value than the input sequence because at each step it considers two numbers from the input. Since these values aren't <em>all zero</em>, repeat the process: the values differ by <code>0</code> at each step, so the next sequence is <code>0 0 0 0</code>. This means you have enough information to extrapolate the history! Visually, these sequences can be arranged like this:</p>\n",
        "<pre><code>0   3   6   9  12  15\n",
        "  3   3   3   3   3\n",
        "    0   0   0   0\n",
        "</code></pre>\n",
        "<p>To extrapolate, start by adding a new zero to the end of your list of zeroes; because the zeroes represent differences between the two values above them, this also means there is now a placeholder in every sequence above it:<p>\n",
        "<pre><code>0   3   6   9  12  15   <em>B</em>\n",
        "  3   3   3   3   3   <em>A</em>\n",
        "    0   0   0   0   <em>0</em>\n",
        "</code></pre>\n",
        "<p>You can then start filling in placeholders from the bottom up. <code>A</code> needs to be the result of increasing <code>3</code> (the value to its left) by <code>0</code> (the value below it); this means <code>A</code> must be <code><em>3</em></code>:</p>\n",
        "<pre><code>0   3   6   9  12  15   B\n",
        "  3   3   3   3   <em>3</em>   <em>3</em>\n",
        "    0   0   0   0   <em>0</em>\n",
        "</code></pre>\n",
        "<p>Finally, you can fill in <code>B</code>, which needs to be the result of increasing <code>15</code> (the value to its left) by <code>3</code> (the value below it), or <code><em>18</em></code>:</p>\n",
        "<pre><code>0   3   6   9  12  <em>15</em>  <em>18</em>\n",
        "  3   3   3   3   3   <em>3</em>\n",
        "    0   0   0   0   0\n",
        "</code></pre>\n",
        "<p>So, the next value of the first history is <code><em>18</em></code>.</p>\n",
        "<p>Finding all-zero differences for the second history requires an additional sequence:</p>\n",
        "<pre><code>1   3   6  10  15  21\n",
        "  2   3   4   5   6\n",
        "    1   1   1   1\n",
        "      0   0   0\n",
        "</code></pre>\n",
        "<p>Then, following the same process as before, work out the next value in each sequence from the bottom up:</p>\n",
        "<pre><code>1   3   6  10  15  21  <em>28</em>\n",
        "  2   3   4   5   6   <em>7</em>\n",
        "    1   1   1   1   <em>1</em>\n",
        "      0   0   0   <em>0</em>\n",
        "</code></pre>\n",
        "<p>So, the next value of the second history is <code><em>28</em></code>.</p>\n",
        "<p>The third history requires even more sequences, but its next value can be found the same way:</p>\n",
        "<pre><code>10  13  16  21  30  45  <em>68</em>\n",
        "   3   3   5   9  15  <em>23</em>\n",
        "     0   2   4   6   <em>8</em>\n",
        "       2   2   2   <em>2</em>\n",
        "         0   0   <em>0</em>\n",
        "</code></pre>\n",
        "<p>So, the next value of the third history is <code><em>68</em></code>.</p>\n",
        "<p>If you find the next value for each history in this example and add them together, you get <code><em>114</em></code>.</p>\n",
        "<p>Analyze your OASIS report and extrapolate the next value for each history. <em>What is the sum of these extrapolated values?</em></p>\n",
        "</article>"
      ]
    },
    {
      "cell_type": "code",
      "execution_count": 1,
      "metadata": {
        "colab": {
          "base_uri": "https://localhost:8080/"
        },
        "id": "8bnd-ZZk0PAL",
        "outputId": "c3bd8447-8e60-4001-e9c6-05c04a547f1c"
      },
      "outputs": [
        {
          "output_type": "stream",
          "name": "stdout",
          "text": [
            "Drive already mounted at /content/drive; to attempt to forcibly remount, call drive.mount(\"/content/drive\", force_remount=True).\n"
          ]
        }
      ],
      "source": [
        "from google.colab import drive\n",
        "drive.mount(r\"/content/drive\")\n",
        "\n",
        "input_file = r\"/content/drive/MyDrive/Colab Notebooks/AoC2023/input/09.txt\"\n",
        "with open(input_file, \"r\") as file:\n",
        "    input = file.read()"
      ]
    },
    {
      "cell_type": "code",
      "source": [
        "def parse_input(input: str) -> list[list[int]]:\n",
        "    \"\"\"\n",
        "    Parse a multiline string into a list of lists of integers.\n",
        "\n",
        "    Each line in the input string is assumed to be a sequence of integers\n",
        "    separated by spaces. The function converts these lines into lists of integers.\n",
        "\n",
        "    Args:\n",
        "    input (str): A multiline string where each line represents a sequence of integers.\n",
        "\n",
        "    Returns:\n",
        "    list[list[int]]: A list of lists, where each sublist is a sequence of integers from the input.\n",
        "    \"\"\"\n",
        "\n",
        "    # Split the input string into lines\n",
        "    lines = input.splitlines()\n",
        "\n",
        "    # Convert each line into a list of integers\n",
        "    sequences = [list(map(int, line.split())) for line in lines if line]\n",
        "\n",
        "    return sequences"
      ],
      "metadata": {
        "id": "BmopxonuK5KE"
      },
      "execution_count": 2,
      "outputs": []
    },
    {
      "cell_type": "code",
      "source": [
        "def extrapolate_next(history: list[int]) -> int:\n",
        "    \"\"\"\n",
        "    Given a history of integers, recursively extrapolate the next integer in the sequence.\n",
        "\n",
        "    The function calculates differences between consecutive numbers recursively and uses\n",
        "    these differences to predict the next number. The recursion continues until\n",
        "    a sequence of differences that are all zero is found.\n",
        "\n",
        "    Args:\n",
        "    history (list[int]): A list of integers representing the history of a sequence.\n",
        "\n",
        "    Returns:\n",
        "    int: The next integer in the sequence.\n",
        "    \"\"\"\n",
        "\n",
        "    def calculate_next(history: list[int]) -> int:\n",
        "        \"\"\"\n",
        "        Helper function to recursively calculate the next value in the sequence.\n",
        "        \"\"\"\n",
        "        if len(history) == 1:\n",
        "            return history[0]\n",
        "\n",
        "        # Compute the difference sequence\n",
        "        differences = [j - i for i, j in zip(history, history[1:])]\n",
        "\n",
        "        # If all differences are zero, return the last element of the history\n",
        "        if all(d == 0 for d in differences):\n",
        "            return history[-1]\n",
        "\n",
        "        # Recursively call the function to compute the next value in the difference sequence\n",
        "        next_difference = calculate_next(differences)\n",
        "        # Add the next difference to the last element of the current history to get the next value\n",
        "        return history[-1] + next_difference\n",
        "\n",
        "    if not history or len(history) < 2:\n",
        "        raise ValueError(\"History must contain at least two values.\")\n",
        "\n",
        "    return calculate_next(history)"
      ],
      "metadata": {
        "id": "y-9_q7lxMNMF"
      },
      "execution_count": 3,
      "outputs": []
    },
    {
      "cell_type": "code",
      "source": [
        "oasis_report = parse_input(input)"
      ],
      "metadata": {
        "id": "QL8NJBt1NziI"
      },
      "execution_count": 4,
      "outputs": []
    },
    {
      "cell_type": "code",
      "source": [
        "sum(extrapolate_next(history) for history in oasis_report)"
      ],
      "metadata": {
        "colab": {
          "base_uri": "https://localhost:8080/"
        },
        "id": "1JuzH0RoN9mv",
        "outputId": "47e2e41c-d148-4674-a1de-7deaf97ee7cd"
      },
      "execution_count": 5,
      "outputs": [
        {
          "output_type": "execute_result",
          "data": {
            "text/plain": [
              "1861775706"
            ]
          },
          "metadata": {},
          "execution_count": 5
        }
      ]
    },
    {
      "cell_type": "markdown",
      "source": [
        "<article class=\"day-desc\"><h2 id=\"part2\">--- Part Two ---</h2><p>Of course, it would be nice to have <em>even more history</em> included in your report. Surely it's safe to just <em>extrapolate backwards</em> as well, right?</p>\n",
        "<p>For each history, repeat the process of finding differences until the sequence of differences is entirely zero. Then, rather than adding a zero to the end and filling in the next values of each previous sequence, you should instead add a zero to the <em>beginning</em> of your sequence of zeroes, then fill in new <em>first</em> values for each previous sequence.</p>\n",
        "<p>In particular, here is what the third example history looks like when extrapolating back in time:</p>\n",
        "<pre><code><em>5</em>  10  13  16  21  30  45\n",
        "  <em>5</em>   3   3   5   9  15\n",
        "   <em>-2</em>   0   2   4   6\n",
        "      <em>2</em>   2   2   2\n",
        "        <em>0</em>   0   0\n",
        "</code></pre>\n",
        "<p>Adding the new values on the left side of each sequence from bottom to top eventually reveals the new left-most history value: <code><em>5</em></code>.</p>\n",
        "<p>Doing this for the remaining example data above results in previous values of <code><em>-3</em></code> for the first history and <code><em>0</em></code> for the second history. Adding all three new values together produces <code><em>2</em></code>.</p>\n",
        "<p>Analyze your OASIS report again, this time extrapolating the <em>previous</em> value for each history. <em>What is the sum of these extrapolated values?</em></p>\n",
        "</article>"
      ],
      "metadata": {
        "id": "O4RwQ-ASV1Ag"
      }
    },
    {
      "cell_type": "code",
      "source": [
        "def extrapolate_previous(history: list[int]) -> int:\n",
        "    \"\"\"\n",
        "    Given a history of integers, recursively extrapolate the previous integer in the sequence.\n",
        "\n",
        "    The function calculates differences between consecutive numbers recursively and uses\n",
        "    these differences to predict the previous number. The recursion continues until\n",
        "    a sequence of differences that are all zero is found.\n",
        "\n",
        "    Args:\n",
        "    history (list[int]): A list of integers representing the history of a sequence.\n",
        "\n",
        "    Returns:\n",
        "    int: The previous integer in the sequence.\n",
        "    \"\"\"\n",
        "\n",
        "    def calculate_previous(history: list[int]) -> int:\n",
        "        \"\"\"\n",
        "        Helper function to recursively calculate the previous value in the sequence.\n",
        "        \"\"\"\n",
        "        if len(history) == 1:\n",
        "            return history[0]\n",
        "\n",
        "        # Compute the difference sequence\n",
        "        differences = [j - i for i, j in zip(history, history[1:])]\n",
        "\n",
        "        # If all differences are zero, return the first element of the history\n",
        "        if all(d == 0 for d in differences):\n",
        "            return history[0]\n",
        "\n",
        "        # Recursively call the function to compute the previous value in the difference sequence\n",
        "        previous_difference = calculate_previous(differences)\n",
        "        # Subtract the previous difference from the first element of the current history to get the previous value\n",
        "        return history[0] - previous_difference\n",
        "\n",
        "    if not history or len(history) < 2:\n",
        "        raise ValueError(\"History must contain at least two values.\")\n",
        "\n",
        "    return calculate_previous(history)"
      ],
      "metadata": {
        "id": "tg1mgyu3P5ix"
      },
      "execution_count": 6,
      "outputs": []
    },
    {
      "cell_type": "code",
      "source": [
        "sum(extrapolate_previous(history) for history in oasis_report)"
      ],
      "metadata": {
        "colab": {
          "base_uri": "https://localhost:8080/"
        },
        "id": "kfk31oTtWmIN",
        "outputId": "5e041e09-834e-4468-ad5c-1e859af5a5cf"
      },
      "execution_count": 7,
      "outputs": [
        {
          "output_type": "execute_result",
          "data": {
            "text/plain": [
              "1082"
            ]
          },
          "metadata": {},
          "execution_count": 7
        }
      ]
    }
  ],
  "metadata": {
    "colab": {
      "provenance": [],
      "authorship_tag": "ABX9TyPq6gHjueVzcgRWsxBI+TAH",
      "include_colab_link": true
    },
    "kernelspec": {
      "display_name": "Python 3",
      "name": "python3"
    },
    "language_info": {
      "name": "python"
    }
  },
  "nbformat": 4,
  "nbformat_minor": 0
}