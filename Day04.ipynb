{
  "cells": [
    {
      "cell_type": "markdown",
      "metadata": {
        "id": "view-in-github",
        "colab_type": "text"
      },
      "source": [
        "<a href=\"https://colab.research.google.com/github/oddrationale/AdventOfCode2023Python/blob/main/Day04.ipynb\" target=\"_parent\"><img src=\"https://colab.research.google.com/assets/colab-badge.svg\" alt=\"Open In Colab\"/></a>"
      ]
    },
    {
      "cell_type": "markdown",
      "metadata": {
        "id": "oFAzFV8k0MTr"
      },
      "source": [
        "<article class=\"day-desc\"><h2>--- Day 4: Scratchcards ---</h2><p>The gondola takes you up. Strangely, though, the ground doesn't seem to be coming with you; you're not climbing a mountain. As the circle of Snow Island recedes below you, an entire new landmass suddenly appears above you! The gondola carries you to the surface of the new island and lurches into the station.</p>\n",
        "<p>As you exit the gondola, the first thing you notice is that the air here is much <em>warmer</em> than it was on Snow Island. It's also quite <em>humid</em>. Is this where the water source is?</p>\n",
        "<p>The next thing you notice is an Elf sitting on the floor across the station in what seems to be a pile of colorful square cards.</p>\n",
        "<p>\"Oh! Hello!\" The Elf excitedly runs over to you. \"How may I be of service?\" You ask about water sources.</p>\n",
        "<p>\"I'm not sure; I just operate the gondola lift. That does sound like something we'd have, though - this is <em><span title=\"I find this way funnier than it has any right to be.\">Island Island</span></em>, after all! I bet the <em>gardener</em> would know. He's on a different island, though - er, the small kind surrounded by water, not the floating kind. We really need to come up with a better naming scheme. Tell you what: if you can help me with something quick, I'll let you <em>borrow my boat</em> and you can go visit the gardener. I got all these <a href=\"https://en.wikipedia.org/wiki/Scratchcard\" target=\"_blank\">scratchcards</a> as a gift, but I can't figure out what I've won.\"</p>\n",
        "<p>The Elf leads you over to the pile of colorful cards. There, you discover dozens of scratchcards, all with their opaque covering already scratched off. Picking one up, it looks like each card has two lists of numbers separated by a vertical bar (<code>|</code>): a list of <em>winning numbers</em> and then a list of <em>numbers you have</em>. You organize the information into a table (your puzzle input).</p>\n",
        "<p>As far as the Elf has been able to figure out, you have to figure out which of the <em>numbers you have</em> appear in the list of <em>winning numbers</em>. The first match makes the card worth <em>one point</em> and each match after the first <em>doubles</em> the point value of that card.</p>\n",
        "<p>For example:</p>\n",
        "<pre><code>Card 1: 41 48 83 86 17 | 83 86  6 31 17  9 48 53\n",
        "Card 2: 13 32 20 16 61 | 61 30 68 82 17 32 24 19\n",
        "Card 3:  1 21 53 59 44 | 69 82 63 72 16 21 14  1\n",
        "Card 4: 41 92 73 84 69 | 59 84 76 51 58  5 54 83\n",
        "Card 5: 87 83 26 28 32 | 88 30 70 12 93 22 82 36\n",
        "Card 6: 31 18 13 56 72 | 74 77 10 23 35 67 36 11\n",
        "</code></pre>\n",
        "<p>In the above example, card 1 has five winning numbers (<code>41</code>, <code>48</code>, <code>83</code>, <code>86</code>, and <code>17</code>) and eight numbers you have (<code>83</code>, <code>86</code>, <code>6</code>, <code>31</code>, <code>17</code>, <code>9</code>, <code>48</code>, and <code>53</code>). Of the numbers you have, four of them (<code>48</code>, <code>83</code>, <code>17</code>, and <code>86</code>) are winning numbers! That means card 1 is worth <code><em>8</em></code> points (1 for the first match, then doubled three times for each of the three matches after the first).</p>\n",
        "<ul>\n",
        "<li>Card 2 has two winning numbers (<code>32</code> and <code>61</code>), so it is worth <code><em>2</em></code> points.</li>\n",
        "<li>Card 3 has two winning numbers (<code>1</code> and <code>21</code>), so it is worth <code><em>2</em></code> points.</li>\n",
        "<li>Card 4 has one winning number (<code>84</code>), so it is worth <code><em>1</em></code> point.</li>\n",
        "<li>Card 5 has no winning numbers, so it is worth no points.</li>\n",
        "<li>Card 6 has no winning numbers, so it is worth no points.</li>\n",
        "</ul>\n",
        "<p>So, in this example, the Elf's pile of scratchcards is worth <code><em>13</em></code> points.</p>\n",
        "<p>Take a seat in the large pile of colorful cards. <em>How many points are they worth in total?</em></p>\n",
        "</article>"
      ]
    },
    {
      "cell_type": "code",
      "execution_count": null,
      "metadata": {
        "colab": {
          "base_uri": "https://localhost:8080/"
        },
        "id": "8bnd-ZZk0PAL",
        "outputId": "43c54198-7555-493c-d1ce-51dec0d59499"
      },
      "outputs": [
        {
          "output_type": "stream",
          "name": "stdout",
          "text": [
            "Drive already mounted at /content/drive; to attempt to forcibly remount, call drive.mount(\"/content/drive\", force_remount=True).\n"
          ]
        }
      ],
      "source": [
        "from google.colab import drive\n",
        "drive.mount(r\"/content/drive\")\n",
        "\n",
        "input_file = r\"/content/drive/MyDrive/Colab Notebooks/AoC2023/input/04.txt\"\n",
        "with open(input_file, \"r\") as file:\n",
        "    input = file.read()"
      ]
    },
    {
      "cell_type": "code",
      "source": [
        "import re\n",
        "from pydantic import BaseModel"
      ],
      "metadata": {
        "id": "qzy1RbpXm7_u"
      },
      "execution_count": null,
      "outputs": []
    },
    {
      "cell_type": "code",
      "source": [
        "class Card(BaseModel):\n",
        "    \"\"\"A class to represent a scratchcard.\n",
        "\n",
        "    Attributes:\n",
        "        id (int): The unique identifier of the card.\n",
        "        winning_numbers (set[int]): The set of numbers that are required to win the game.\n",
        "        numbers_you_have (set[int]): The set of numbers that are present on the card.\n",
        "    \"\"\"\n",
        "\n",
        "    id: int\n",
        "    winning_numbers: set[int]\n",
        "    numbers_you_have: set[int]\n",
        "\n",
        "    def points(self) -> int:\n",
        "        \"\"\"Calculates the points earned by the card based on the number of matching numbers.\n",
        "\n",
        "        Returns:\n",
        "            int: The points earned by the card. The formula is 2^(n-1), where n is the number of matching numbers, or 0\n",
        "            if n is 0.\n",
        "        \"\"\"\n",
        "        count = self.count_of_matching_numbers()\n",
        "        return 2 ** (count - 1) if count > 0 else 0\n",
        "\n",
        "    def count_of_matching_numbers(self) -> int:\n",
        "        \"\"\"Counts the number of numbers that are common between the winning numbers and the numbers on the card.\n",
        "\n",
        "        Returns:\n",
        "            int: The number of matching numbers.\n",
        "        \"\"\"\n",
        "        # Use the set intersection operator (&) to find the common elements\n",
        "        return len(self.winning_numbers & self.numbers_you_have)\n",
        "\n",
        "    @classmethod\n",
        "    def from_string(cls, string: str) -> \"Card\":\n",
        "        \"\"\"Creates a card object from a string representation.\n",
        "\n",
        "        Args:\n",
        "            string (str): The string representation of the card. It should be in the format \"Card id: winning_numbers |\n",
        "            numbers_you_have\", where id, winning_numbers, and numbers_you_have are space-separated integers.\n",
        "\n",
        "        Returns:\n",
        "            Card: The card object corresponding to the string.\n",
        "\n",
        "        Raises:\n",
        "            ValueError: If the string is not in the expected format or contains invalid values.\n",
        "        \"\"\"\n",
        "        # Use a regular expression to parse the string and extract the values\n",
        "        pattern = re.compile(r\"Card\\s+(\\d+): ([\\d\\s]+?) \\| ([\\d\\s]+)$\")\n",
        "        id, winning_numbers, numbers_you_have = pattern.match(string).groups()\n",
        "        # Convert the values to the appropriate types and create the card object\n",
        "        return Card(\n",
        "            id=int(id),\n",
        "            winning_numbers={int(n) for n in winning_numbers.split()},\n",
        "            numbers_you_have={int(n) for n in numbers_you_have.split()},\n",
        "        )\n"
      ],
      "metadata": {
        "id": "q4QH9HwED0-2"
      },
      "execution_count": null,
      "outputs": []
    },
    {
      "cell_type": "code",
      "source": [
        "assert Card.from_string(\"Card 1: 41 48 83 86 17 | 83 86  6 31 17  9 48 53\").points() == 8\n",
        "assert Card.from_string(\"Card 2: 13 32 20 16 61 | 61 30 68 82 17 32 24 19\").points() == 2\n",
        "assert Card.from_string(\"Card 3:  1 21 53 59 44 | 69 82 63 72 16 21 14  1\").points() == 2\n",
        "assert Card.from_string(\"Card 4: 41 92 73 84 69 | 59 84 76 51 58  5 54 83\").points() == 1\n",
        "assert Card.from_string(\"Card 5: 87 83 26 28 32 | 88 30 70 12 93 22 82 36\").points() == 0\n",
        "assert Card.from_string(\"Card 6: 31 18 13 56 72 | 74 77 10 23 35 67 36 11\").points() == 0"
      ],
      "metadata": {
        "id": "vm-fR_I_IHdI"
      },
      "execution_count": null,
      "outputs": []
    },
    {
      "cell_type": "code",
      "source": [
        "cards = [Card.from_string(line) for line in input.splitlines() if line]"
      ],
      "metadata": {
        "id": "2crLgi0eJkfI"
      },
      "execution_count": null,
      "outputs": []
    },
    {
      "cell_type": "code",
      "source": [
        "sum(card.points() for card in cards)"
      ],
      "metadata": {
        "colab": {
          "base_uri": "https://localhost:8080/"
        },
        "id": "IFLqVIP-Lfsu",
        "outputId": "47e49a2e-7a4b-439c-8bc4-fc9148a02557"
      },
      "execution_count": null,
      "outputs": [
        {
          "output_type": "execute_result",
          "data": {
            "text/plain": [
              "25010"
            ]
          },
          "metadata": {},
          "execution_count": 6
        }
      ]
    },
    {
      "cell_type": "markdown",
      "source": [
        "<article class=\"day-desc\"><h2 id=\"part2\">--- Part Two ---</h2><p>Just as you're about to report your findings to the Elf, one of you realizes that the rules have actually been printed on the back of every card this whole time.</p>\n",
        "<p>There's no such thing as \"points\". Instead, scratchcards only cause you to <em>win more scratchcards</em> equal to the number of winning numbers you have.</p>\n",
        "<p>Specifically, you win <em>copies</em> of the scratchcards below the winning card equal to the number of matches. So, if card 10 were to have 5 matching numbers, you would win one copy each of cards 11, 12, 13, 14, and 15.</p>\n",
        "<p>Copies of scratchcards are scored like normal scratchcards and have the <em>same card number</em> as the card they copied. So, if you win a copy of card 10 and it has 5 matching numbers, it would then win a copy of the same cards that the original card 10 won: cards 11, 12, 13, 14, and 15. This process repeats until none of the copies cause you to win any more cards. (Cards will never make you copy a card past the end of the table.)</p>\n",
        "<p>This time, the above example goes differently:</p>\n",
        "<pre><code>Card 1: 41 48 83 86 17 | 83 86  6 31 17  9 48 53\n",
        "Card 2: 13 32 20 16 61 | 61 30 68 82 17 32 24 19\n",
        "Card 3:  1 21 53 59 44 | 69 82 63 72 16 21 14  1\n",
        "Card 4: 41 92 73 84 69 | 59 84 76 51 58  5 54 83\n",
        "Card 5: 87 83 26 28 32 | 88 30 70 12 93 22 82 36\n",
        "Card 6: 31 18 13 56 72 | 74 77 10 23 35 67 36 11\n",
        "</code></pre>\n",
        "<ul>\n",
        "<li>Card 1 has four matching numbers, so you win one copy each of the next four cards: cards 2, 3, 4, and 5.</li>\n",
        "<li>Your original card 2 has two matching numbers, so you win one copy each of cards 3 and 4.</li>\n",
        "<li>Your copy of card 2 also wins one copy each of cards 3 and 4.</li>\n",
        "<li>Your four instances of card 3 (one original and three copies) have two matching numbers, so you win <em>four</em> copies each of cards 4 and 5.</li>\n",
        "<li>Your eight instances of card 4 (one original and seven copies) have one matching number, so you win <em>eight</em> copies of card 5.</li>\n",
        "<li>Your fourteen instances of card 5 (one original and thirteen copies) have no matching numbers and win no more cards.</li>\n",
        "<li>Your one instance of card 6 (one original) has no matching numbers and wins no more cards.</li>\n",
        "</ul>\n",
        "<p>Once all of the originals and copies have been processed, you end up with <code><em>1</em></code> instance of card 1, <code><em>2</em></code> instances of card 2, <code><em>4</em></code> instances of card 3, <code><em>8</em></code> instances of card 4, <code><em>14</em></code> instances of card 5, and <code><em>1</em></code> instance of card 6. In total, this example pile of scratchcards causes you to ultimately have <code><em>30</em></code> scratchcards!</p>\n",
        "<p>Process all of the original and copied scratchcards until no more scratchcards are won. Including the original set of scratchcards, <em>how many total scratchcards do you end up with?</em></p>\n",
        "</article>"
      ],
      "metadata": {
        "id": "osPrWovhLtZz"
      }
    },
    {
      "cell_type": "code",
      "source": [
        "def win(cards: list[Card]) -> int:\n",
        "    \"\"\"Calculate the total number of scratchcards including the originals and the copies won.\n",
        "\n",
        "    Args:\n",
        "        cards (list[Card]): The list of cards to evaluate.\n",
        "\n",
        "    Returns:\n",
        "        int: Total number of scratchcards after processing all winnings.\n",
        "    \"\"\"\n",
        "    # Initialize a list of instances to keep track of how many times each card appears in the list\n",
        "    # Each element in the list corresponds to a card in the same position in the cards list\n",
        "    # The initial value of each element is 1, meaning each card has one original instance\n",
        "    instances = [1] * len(cards)\n",
        "    # Loop through the cards in the list\n",
        "    for i, card in enumerate(cards):\n",
        "        # For each card, loop through the cards that have an id equal to or greater than the current card's id plus the\n",
        "        # number of matching numbers\n",
        "        for j in range(card.id, card.id + card.count_of_matching_numbers()):\n",
        "            # Add the number of instances of the current card to the number of instances of the card that can be won as\n",
        "            # a copy\n",
        "            instances[j] += instances[i]\n",
        "    # Return the sum of the instances\n",
        "    return sum(instances)"
      ],
      "metadata": {
        "id": "FlPFy7gp4_0o"
      },
      "execution_count": null,
      "outputs": []
    },
    {
      "cell_type": "code",
      "source": [
        "win(cards)"
      ],
      "metadata": {
        "id": "04E9yuGz5zxD",
        "colab": {
          "base_uri": "https://localhost:8080/"
        },
        "outputId": "c5206a4f-bef2-48ae-dbfe-0db7c4c2f037"
      },
      "execution_count": null,
      "outputs": [
        {
          "output_type": "execute_result",
          "data": {
            "text/plain": [
              "9924412"
            ]
          },
          "metadata": {},
          "execution_count": 8
        }
      ]
    }
  ],
  "metadata": {
    "colab": {
      "provenance": [],
      "authorship_tag": "ABX9TyMtG3dGMGotJNA43iWISccm",
      "include_colab_link": true
    },
    "kernelspec": {
      "display_name": "Python 3",
      "name": "python3"
    },
    "language_info": {
      "name": "python"
    }
  },
  "nbformat": 4,
  "nbformat_minor": 0
}